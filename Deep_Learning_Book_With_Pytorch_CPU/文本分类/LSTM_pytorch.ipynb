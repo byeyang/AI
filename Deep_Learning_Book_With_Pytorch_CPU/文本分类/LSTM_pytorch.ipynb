{
 "cells": [
  {
   "cell_type": "code",
   "execution_count": 1,
   "id": "7b4ac338",
   "metadata": {
    "execution": {
     "iopub.execute_input": "2021-12-09T16:42:35.812206Z",
     "iopub.status.busy": "2021-12-09T16:42:35.809953Z",
     "iopub.status.idle": "2021-12-09T16:42:37.290295Z",
     "shell.execute_reply": "2021-12-09T16:42:37.289613Z",
     "shell.execute_reply.started": "2021-12-09T16:06:56.109108Z"
    },
    "papermill": {
     "duration": 1.523733,
     "end_time": "2021-12-09T16:42:37.290465",
     "exception": false,
     "start_time": "2021-12-09T16:42:35.766732",
     "status": "completed"
    },
    "tags": []
   },
   "outputs": [
    {
     "name": "stderr",
     "output_type": "stream",
     "text": [
      "C:\\ProgramData\\Miniconda3\\envs\\pth111\\lib\\site-packages\\tqdm\\auto.py:22: TqdmWarning: IProgress not found. Please update jupyter and ipywidgets. See https://ipywidgets.readthedocs.io/en/stable/user_install.html\n",
      "  from .autonotebook import tqdm as notebook_tqdm\n"
     ]
    }
   ],
   "source": [
    "import torch\n",
    "import torchtext\n",
    "import numpy as np\n",
    "import torch.nn as nn\n",
    "import torch.nn.functional as F\n",
    "from torch.utils import data\n",
    "from torch.utils.data import DataLoader\n",
    "from torchtext.data.utils import get_tokenizer            # 分词工具\n",
    "from torchtext.vocab import build_vocab_from_iterator     # 创建词表工具\n",
    "from torchtext.data.functional import to_map_style_dataset"
   ]
  },
  {
   "cell_type": "code",
   "execution_count": 2,
   "id": "b4da3c56",
   "metadata": {
    "execution": {
     "iopub.execute_input": "2021-12-09T16:42:37.353137Z",
     "iopub.status.busy": "2021-12-09T16:42:37.352495Z",
     "iopub.status.idle": "2021-12-09T16:42:37.355725Z",
     "shell.execute_reply": "2021-12-09T16:42:37.356181Z",
     "shell.execute_reply.started": "2021-12-09T16:06:56.117174Z"
    },
    "papermill": {
     "duration": 0.03756,
     "end_time": "2021-12-09T16:42:37.356323",
     "exception": false,
     "start_time": "2021-12-09T16:42:37.318763",
     "status": "completed"
    },
    "tags": []
   },
   "outputs": [
    {
     "data": {
      "text/plain": [
       "'1.11.0+cpu'"
      ]
     },
     "execution_count": 2,
     "metadata": {},
     "output_type": "execute_result"
    }
   ],
   "source": [
    "torch.__version__"
   ]
  },
  {
   "cell_type": "code",
   "execution_count": 3,
   "id": "754298a6",
   "metadata": {
    "execution": {
     "iopub.execute_input": "2021-12-09T16:42:37.416385Z",
     "iopub.status.busy": "2021-12-09T16:42:37.415586Z",
     "iopub.status.idle": "2021-12-09T16:42:37.418513Z",
     "shell.execute_reply": "2021-12-09T16:42:37.418953Z",
     "shell.execute_reply.started": "2021-12-09T16:06:56.132662Z"
    },
    "papermill": {
     "duration": 0.035188,
     "end_time": "2021-12-09T16:42:37.419221",
     "exception": false,
     "start_time": "2021-12-09T16:42:37.384033",
     "status": "completed"
    },
    "tags": []
   },
   "outputs": [
    {
     "data": {
      "text/plain": [
       "'0.12.0'"
      ]
     },
     "execution_count": 3,
     "metadata": {},
     "output_type": "execute_result"
    }
   ],
   "source": [
    "torchtext.__version__"
   ]
  },
  {
   "cell_type": "markdown",
   "id": "d69d9dd7",
   "metadata": {
    "papermill": {
     "duration": 0.027331,
     "end_time": "2021-12-09T16:42:37.474666",
     "exception": false,
     "start_time": "2021-12-09T16:42:37.447335",
     "status": "completed"
    },
    "tags": []
   },
   "source": [
    "# TorchText文本分类数据集"
   ]
  },
  {
   "cell_type": "code",
   "execution_count": 5,
   "id": "a209db18",
   "metadata": {
    "execution": {
     "iopub.execute_input": "2021-12-09T16:42:37.534610Z",
     "iopub.status.busy": "2021-12-09T16:42:37.533799Z",
     "iopub.status.idle": "2021-12-09T16:43:22.580554Z",
     "shell.execute_reply": "2021-12-09T16:43:22.579987Z",
     "shell.execute_reply.started": "2021-12-09T16:06:56.141621Z"
    },
    "papermill": {
     "duration": 45.078337,
     "end_time": "2021-12-09T16:43:22.580709",
     "exception": false,
     "start_time": "2021-12-09T16:42:37.502372",
     "status": "completed"
    },
    "tags": []
   },
   "outputs": [],
   "source": [
    "train_iter, test_iter = torchtext.datasets.IMDB()"
   ]
  },
  {
   "cell_type": "code",
   "execution_count": 6,
   "id": "7dd58c99",
   "metadata": {
    "execution": {
     "iopub.execute_input": "2021-12-09T16:43:22.663316Z",
     "iopub.status.busy": "2021-12-09T16:43:22.662641Z",
     "iopub.status.idle": "2021-12-09T16:43:22.665372Z",
     "shell.execute_reply": "2021-12-09T16:43:22.665796Z",
     "shell.execute_reply.started": "2021-12-09T16:07:22.836195Z"
    },
    "papermill": {
     "duration": 0.04762,
     "end_time": "2021-12-09T16:43:22.665925",
     "exception": false,
     "start_time": "2021-12-09T16:43:22.618305",
     "status": "completed"
    },
    "tags": []
   },
   "outputs": [],
   "source": [
    "tokenizer = get_tokenizer('basic_english')   \n",
    "def yield_tokens(data):\n",
    "    for _, text in data:\n",
    "        yield tokenizer(text)\n",
    "\n",
    "vocab = build_vocab_from_iterator(yield_tokens(train_iter), specials=[\"<pad>\", \"<unk>\"])\n",
    "vocab.set_default_index(vocab[\"<unk>\"])"
   ]
  },
  {
   "cell_type": "code",
   "execution_count": 7,
   "id": "228e505a",
   "metadata": {},
   "outputs": [],
   "source": [
    "text_pipeline = lambda x: vocab(tokenizer(x))\n",
    "label_pipeline = lambda x: int(x == 'pos')"
   ]
  },
  {
   "cell_type": "code",
   "execution_count": 8,
   "id": "0303124e",
   "metadata": {},
   "outputs": [],
   "source": [
    "device = torch.device('cuda' if torch.cuda.is_available() else 'cpu')"
   ]
  },
  {
   "cell_type": "code",
   "execution_count": 12,
   "id": "1b665a62",
   "metadata": {
    "execution": {
     "iopub.execute_input": "2021-12-09T16:43:57.972725Z",
     "iopub.status.busy": "2021-12-09T16:43:57.969958Z",
     "iopub.status.idle": "2021-12-09T16:43:57.975218Z",
     "shell.execute_reply": "2021-12-09T16:43:57.974649Z",
     "shell.execute_reply.started": "2021-12-09T16:07:55.466132Z"
    },
    "papermill": {
     "duration": 0.049653,
     "end_time": "2021-12-09T16:43:57.975336",
     "exception": false,
     "start_time": "2021-12-09T16:43:57.925683",
     "status": "completed"
    },
    "tags": []
   },
   "outputs": [],
   "source": [
    "def collate_batch(batch):\n",
    "    label_list, text_list = [], []\n",
    "    for (_label, _text) in batch:\n",
    "        label_list.append(label_pipeline(_label))\n",
    "        precess_text = torch.tensor(text_pipeline(_text), dtype=torch.int64)\n",
    "        text_list.append(precess_text)\n",
    "    label_list = torch.tensor(label_list)\n",
    "    text_list = torch.nn.utils.rnn.pad_sequence(text_list)\n",
    "    return label_list.to(device), text_list.to(device)"
   ]
  },
  {
   "cell_type": "code",
   "execution_count": 13,
   "id": "769a4fc0",
   "metadata": {
    "execution": {
     "iopub.execute_input": "2021-12-09T16:43:58.062112Z",
     "iopub.status.busy": "2021-12-09T16:43:58.061417Z",
     "iopub.status.idle": "2021-12-09T16:43:58.063952Z",
     "shell.execute_reply": "2021-12-09T16:43:58.063543Z",
     "shell.execute_reply.started": "2021-12-09T16:10:01.979776Z"
    },
    "papermill": {
     "duration": 0.047182,
     "end_time": "2021-12-09T16:43:58.064056",
     "exception": false,
     "start_time": "2021-12-09T16:43:58.016874",
     "status": "completed"
    },
    "tags": []
   },
   "outputs": [],
   "source": [
    "train_dataset = to_map_style_dataset(train_iter)\n",
    "test_dataset = to_map_style_dataset(test_iter)"
   ]
  },
  {
   "cell_type": "code",
   "execution_count": 14,
   "id": "8bf85204",
   "metadata": {},
   "outputs": [],
   "source": [
    "train_dataloader = DataLoader(train_dataset, batch_size=64, \n",
    "                              shuffle=True, collate_fn=collate_batch)\n",
    "test_dataloader = DataLoader(test_dataset, batch_size=64, \n",
    "                             shuffle=True, collate_fn=collate_batch)"
   ]
  },
  {
   "cell_type": "code",
   "execution_count": 15,
   "id": "0b6a9121",
   "metadata": {
    "execution": {
     "iopub.execute_input": "2021-12-09T16:43:58.147873Z",
     "iopub.status.busy": "2021-12-09T16:43:58.146990Z",
     "iopub.status.idle": "2021-12-09T16:44:01.541806Z",
     "shell.execute_reply": "2021-12-09T16:44:01.540994Z",
     "shell.execute_reply.started": "2021-12-09T16:10:02.602820Z"
    },
    "papermill": {
     "duration": 3.437238,
     "end_time": "2021-12-09T16:44:01.541936",
     "exception": false,
     "start_time": "2021-12-09T16:43:58.104698",
     "status": "completed"
    },
    "tags": []
   },
   "outputs": [
    {
     "name": "stdout",
     "output_type": "stream",
     "text": [
      "torch.Size([64]) torch.Size([840, 64])\n",
      "torch.Size([64]) torch.Size([893, 64])\n",
      "torch.Size([64]) torch.Size([878, 64])\n",
      "torch.Size([64]) torch.Size([1205, 64])\n",
      "torch.Size([64]) torch.Size([1244, 64])\n",
      "torch.Size([64]) torch.Size([724, 64])\n",
      "torch.Size([64]) torch.Size([1012, 64])\n",
      "torch.Size([64]) torch.Size([1093, 64])\n",
      "torch.Size([64]) torch.Size([1075, 64])\n",
      "torch.Size([64]) torch.Size([1188, 64])\n",
      "torch.Size([64]) torch.Size([762, 64])\n"
     ]
    }
   ],
   "source": [
    "for i, (l, b) in enumerate(train_dataloader):\n",
    "    print(l.size(), b.size())\n",
    "    if i>9:torchtext\n",
    "        break"
   ]
  },
  {
   "cell_type": "markdown",
   "id": "cf3fb69e",
   "metadata": {
    "papermill": {
     "duration": 0.040091,
     "end_time": "2021-12-09T16:44:01.623808",
     "exception": false,
     "start_time": "2021-12-09T16:44:01.583717",
     "status": "completed"
    },
    "tags": []
   },
   "source": [
    "# 创建模型"
   ]
  },
  {
   "cell_type": "code",
   "execution_count": 16,
   "id": "2e172050",
   "metadata": {
    "execution": {
     "iopub.execute_input": "2021-12-09T16:44:01.708576Z",
     "iopub.status.busy": "2021-12-09T16:44:01.707796Z",
     "iopub.status.idle": "2021-12-09T16:44:01.710632Z",
     "shell.execute_reply": "2021-12-09T16:44:01.710193Z",
     "shell.execute_reply.started": "2021-12-09T16:10:03.196571Z"
    },
    "papermill": {
     "duration": 0.0465,
     "end_time": "2021-12-09T16:44:01.710734",
     "exception": false,
     "start_time": "2021-12-09T16:44:01.664234",
     "status": "completed"
    },
    "tags": []
   },
   "outputs": [],
   "source": [
    "vocab_size = len(vocab)"
   ]
  },
  {
   "cell_type": "code",
   "execution_count": 17,
   "id": "ccf01185",
   "metadata": {
    "execution": {
     "iopub.execute_input": "2021-12-09T16:44:01.796682Z",
     "iopub.status.busy": "2021-12-09T16:44:01.795918Z",
     "iopub.status.idle": "2021-12-09T16:44:01.799357Z",
     "shell.execute_reply": "2021-12-09T16:44:01.798770Z",
     "shell.execute_reply.started": "2021-12-09T16:10:03.204910Z"
    },
    "papermill": {
     "duration": 0.048759,
     "end_time": "2021-12-09T16:44:01.799474",
     "exception": false,
     "start_time": "2021-12-09T16:44:01.750715",
     "status": "completed"
    },
    "tags": []
   },
   "outputs": [
    {
     "data": {
      "text/plain": [
       "100684"
      ]
     },
     "execution_count": 17,
     "metadata": {},
     "output_type": "execute_result"
    }
   ],
   "source": [
    "vocab_size"
   ]
  },
  {
   "cell_type": "code",
   "execution_count": 18,
   "id": "cc58bafe",
   "metadata": {
    "execution": {
     "iopub.execute_input": "2021-12-09T16:44:01.886432Z",
     "iopub.status.busy": "2021-12-09T16:44:01.885628Z",
     "iopub.status.idle": "2021-12-09T16:44:01.888461Z",
     "shell.execute_reply": "2021-12-09T16:44:01.887827Z",
     "shell.execute_reply.started": "2021-12-09T16:10:03.386825Z"
    },
    "papermill": {
     "duration": 0.047065,
     "end_time": "2021-12-09T16:44:01.888586",
     "exception": false,
     "start_time": "2021-12-09T16:44:01.841521",
     "status": "completed"
    },
    "tags": []
   },
   "outputs": [],
   "source": [
    "embeding_dim = 300\n",
    "hidden_size = 128"
   ]
  },
  {
   "cell_type": "code",
   "execution_count": 29,
   "id": "b506c016",
   "metadata": {
    "execution": {
     "iopub.execute_input": "2021-12-09T16:44:01.976753Z",
     "iopub.status.busy": "2021-12-09T16:44:01.975985Z",
     "iopub.status.idle": "2021-12-09T16:44:01.978322Z",
     "shell.execute_reply": "2021-12-09T16:44:01.977780Z",
     "shell.execute_reply.started": "2021-12-09T16:10:03.566000Z"
    },
    "papermill": {
     "duration": 0.048942,
     "end_time": "2021-12-09T16:44:01.978428",
     "exception": false,
     "start_time": "2021-12-09T16:44:01.929486",
     "status": "completed"
    },
    "tags": []
   },
   "outputs": [],
   "source": [
    "class RNN_Net(nn.Module):\n",
    "    def __init__(self, vocab_size, embeding_dim, hidden_size):\n",
    "        super(RNN_Net, self).__init__()\n",
    "        self.em = nn.Embedding(vocab_size, embeding_dim)   \n",
    "        self.rnn = nn.LSTM(embeding_dim, hidden_size)\n",
    "        self.fc1 = nn.Linear(hidden_size, 64)\n",
    "        self.fc2 = nn.Linear(64, 2)\n",
    "\n",
    "    def forward(self, inputs):\n",
    "        x = self.em(inputs)\n",
    "        output, (hidden_state, cell_state) = self.rnn(x)\n",
    "        x = F.relu(self.fc1(output[-1]))\n",
    "        x = self.fc2(x)\n",
    "        return x"
   ]
  },
  {
   "cell_type": "code",
   "execution_count": 30,
   "id": "3dece85a",
   "metadata": {
    "execution": {
     "iopub.execute_input": "2021-12-09T16:44:02.065944Z",
     "iopub.status.busy": "2021-12-09T16:44:02.065395Z",
     "iopub.status.idle": "2021-12-09T16:44:02.826550Z",
     "shell.execute_reply": "2021-12-09T16:44:02.827090Z",
     "shell.execute_reply.started": "2021-12-09T16:10:03.741603Z"
    },
    "papermill": {
     "duration": 0.808191,
     "end_time": "2021-12-09T16:44:02.827297",
     "exception": false,
     "start_time": "2021-12-09T16:44:02.019106",
     "status": "completed"
    },
    "tags": []
   },
   "outputs": [],
   "source": [
    "model = RNN_Net(vocab_size, embeding_dim, hidden_size).to(device)"
   ]
  },
  {
   "cell_type": "code",
   "execution_count": 31,
   "id": "0a117ccc",
   "metadata": {
    "execution": {
     "iopub.execute_input": "2021-12-09T16:44:02.912400Z",
     "iopub.status.busy": "2021-12-09T16:44:02.911594Z",
     "iopub.status.idle": "2021-12-09T16:44:02.917016Z",
     "shell.execute_reply": "2021-12-09T16:44:02.916615Z",
     "shell.execute_reply.started": "2021-12-09T16:10:03.932097Z"
    },
    "papermill": {
     "duration": 0.048627,
     "end_time": "2021-12-09T16:44:02.917141",
     "exception": false,
     "start_time": "2021-12-09T16:44:02.868514",
     "status": "completed"
    },
    "tags": []
   },
   "outputs": [],
   "source": [
    "loss_fn = nn.CrossEntropyLoss()\n",
    "from torch.optim import lr_scheduler\n",
    "optimizer = torch.optim.Adam(model.parameters(), betas=(0.5, 0.5), lr=0.01)\n",
    "exp_lr_scheduler = lr_scheduler.StepLR(optimizer, step_size=15, gamma=0.1)"
   ]
  },
  {
   "cell_type": "code",
   "execution_count": 32,
   "id": "f1549de3",
   "metadata": {
    "execution": {
     "iopub.execute_input": "2021-12-09T16:44:03.005270Z",
     "iopub.status.busy": "2021-12-09T16:44:03.002008Z",
     "iopub.status.idle": "2021-12-09T16:44:03.007958Z",
     "shell.execute_reply": "2021-12-09T16:44:03.007408Z",
     "shell.execute_reply.started": "2021-12-09T16:10:04.112375Z"
    },
    "papermill": {
     "duration": 0.050105,
     "end_time": "2021-12-09T16:44:03.008084",
     "exception": false,
     "start_time": "2021-12-09T16:44:02.957979",
     "status": "completed"
    },
    "tags": []
   },
   "outputs": [],
   "source": [
    "def train(dataloader):\n",
    "    total_acc, total_count, total_loss, = 0, 0, 0\n",
    "    model.train()\n",
    "    for label, text in dataloader:\n",
    "        predicted_label = model(text)\n",
    "        loss = loss_fn(predicted_label, label)\n",
    "        # Backpropagation\n",
    "        optimizer.zero_grad()\n",
    "        loss.backward()\n",
    "        optimizer.step()\n",
    "        \n",
    "        with torch.no_grad():\n",
    "            total_acc += (predicted_label.argmax(1) == label).sum().item()\n",
    "            total_count += label.size(0)\n",
    "            total_loss += loss.item()*label.size(0)\n",
    "    return total_loss/total_count, total_acc/total_count"
   ]
  },
  {
   "cell_type": "code",
   "execution_count": 33,
   "id": "97802301",
   "metadata": {
    "execution": {
     "iopub.execute_input": "2021-12-09T16:44:03.097194Z",
     "iopub.status.busy": "2021-12-09T16:44:03.096353Z",
     "iopub.status.idle": "2021-12-09T16:44:03.098849Z",
     "shell.execute_reply": "2021-12-09T16:44:03.098408Z",
     "shell.execute_reply.started": "2021-12-09T16:10:04.296062Z"
    },
    "papermill": {
     "duration": 0.049449,
     "end_time": "2021-12-09T16:44:03.098954",
     "exception": false,
     "start_time": "2021-12-09T16:44:03.049505",
     "status": "completed"
    },
    "tags": []
   },
   "outputs": [],
   "source": [
    "def test(dataloader):\n",
    "    model.eval()\n",
    "    total_acc, total_count, total_loss, = 0, 0, 0\n",
    "\n",
    "    with torch.no_grad():\n",
    "        for label, text in dataloader:\n",
    "            predicted_label = model(text)\n",
    "            loss = loss_fn(predicted_label, label)\n",
    "            total_acc += (predicted_label.argmax(1) == label).sum().item()\n",
    "            total_count += label.size(0)\n",
    "            total_loss += loss.item()*label.size(0)\n",
    "    return total_loss/total_count, total_acc/total_count"
   ]
  },
  {
   "cell_type": "code",
   "execution_count": 34,
   "id": "705583c2",
   "metadata": {
    "execution": {
     "iopub.execute_input": "2021-12-09T16:44:03.189493Z",
     "iopub.status.busy": "2021-12-09T16:44:03.188737Z",
     "iopub.status.idle": "2021-12-09T16:44:03.191154Z",
     "shell.execute_reply": "2021-12-09T16:44:03.190706Z",
     "shell.execute_reply.started": "2021-12-09T16:10:04.479118Z"
    },
    "papermill": {
     "duration": 0.050589,
     "end_time": "2021-12-09T16:44:03.191268",
     "exception": false,
     "start_time": "2021-12-09T16:44:03.140679",
     "status": "completed"
    },
    "tags": []
   },
   "outputs": [],
   "source": [
    "def fit(epochs, train_dl, test_dl):\n",
    "    train_loss = []\n",
    "    train_acc = []\n",
    "    test_loss = []\n",
    "    test_acc = []\n",
    "\n",
    "    for epoch in range(epochs):\n",
    "        epoch_loss, epoch_acc = train(train_dl)\n",
    "        epoch_test_loss, epoch_test_acc = test(test_dl)\n",
    "        train_loss.append(epoch_loss)\n",
    "        train_acc.append(epoch_acc)\n",
    "        test_loss.append(epoch_test_loss)\n",
    "        test_acc.append(epoch_test_acc)\n",
    "        exp_lr_scheduler.step()\n",
    "        template = (\"epoch:{:2d}, train_loss: {:.5f}, train_acc: {:.1f}% ,\" \n",
    "                    \"test_loss: {:.5f}, test_acc: {:.1f}%\")\n",
    "        print(template.format(\n",
    "              epoch, epoch_loss, epoch_acc*100, epoch_test_loss, epoch_test_acc*100))\n",
    "    print(\"Done!\")\n",
    "    \n",
    "    return train_loss, test_loss, train_acc, test_acc"
   ]
  },
  {
   "cell_type": "code",
   "execution_count": 35,
   "id": "2dcab82a",
   "metadata": {
    "execution": {
     "iopub.execute_input": "2021-12-09T16:44:03.277246Z",
     "iopub.status.busy": "2021-12-09T16:44:03.276488Z",
     "iopub.status.idle": "2021-12-09T16:44:03.278908Z",
     "shell.execute_reply": "2021-12-09T16:44:03.278463Z",
     "shell.execute_reply.started": "2021-12-09T16:10:04.667876Z"
    },
    "papermill": {
     "duration": 0.047026,
     "end_time": "2021-12-09T16:44:03.279008",
     "exception": false,
     "start_time": "2021-12-09T16:44:03.231982",
     "status": "completed"
    },
    "tags": []
   },
   "outputs": [],
   "source": [
    "EPOCHS = 100"
   ]
  },
  {
   "cell_type": "code",
   "execution_count": 36,
   "id": "d5f22463",
   "metadata": {
    "execution": {
     "iopub.execute_input": "2021-12-09T16:44:03.366268Z",
     "iopub.status.busy": "2021-12-09T16:44:03.365540Z",
     "iopub.status.idle": "2021-12-09T17:30:09.612518Z",
     "shell.execute_reply": "2021-12-09T17:30:09.613003Z"
    },
    "papermill": {
     "duration": 2766.291985,
     "end_time": "2021-12-09T17:30:09.613190",
     "exception": false,
     "start_time": "2021-12-09T16:44:03.321205",
     "status": "completed"
    },
    "tags": []
   },
   "outputs": [
    {
     "name": "stdout",
     "output_type": "stream",
     "text": [
      "epoch: 0, train_loss: 0.69916, train_acc: 50.2% ,test_loss: 0.69378, test_acc: 50.0%\n",
      "epoch: 1, train_loss: 0.69399, train_acc: 50.8% ,test_loss: 0.69380, test_acc: 50.0%\n",
      "epoch: 2, train_loss: 0.69348, train_acc: 50.2% ,test_loss: 0.69605, test_acc: 50.0%\n",
      "epoch: 3, train_loss: 0.69278, train_acc: 49.8% ,test_loss: 0.69515, test_acc: 50.0%\n",
      "epoch: 4, train_loss: 0.67794, train_acc: 55.2% ,test_loss: 0.66339, test_acc: 62.8%\n",
      "epoch: 5, train_loss: 0.57792, train_acc: 71.5% ,test_loss: 0.55734, test_acc: 74.4%\n",
      "epoch: 6, train_loss: 0.47179, train_acc: 80.5% ,test_loss: 0.51183, test_acc: 77.9%\n",
      "epoch: 7, train_loss: 0.39794, train_acc: 84.5% ,test_loss: 0.51667, test_acc: 78.6%\n",
      "epoch: 8, train_loss: 0.33833, train_acc: 87.9% ,test_loss: 0.53838, test_acc: 76.9%\n",
      "epoch: 9, train_loss: 0.31944, train_acc: 88.9% ,test_loss: 0.46782, test_acc: 82.8%\n",
      "epoch:10, train_loss: 0.28838, train_acc: 90.3% ,test_loss: 0.50602, test_acc: 82.9%\n",
      "epoch:11, train_loss: 0.25307, train_acc: 91.8% ,test_loss: 0.48785, test_acc: 78.4%\n",
      "epoch:12, train_loss: 0.22973, train_acc: 92.8% ,test_loss: 0.48692, test_acc: 83.3%\n",
      "epoch:13, train_loss: 0.20735, train_acc: 93.5% ,test_loss: 0.48483, test_acc: 81.6%\n",
      "epoch:14, train_loss: 0.20245, train_acc: 93.9% ,test_loss: 0.46851, test_acc: 83.7%\n",
      "epoch:15, train_loss: 0.13799, train_acc: 96.0% ,test_loss: 0.49551, test_acc: 84.0%\n",
      "epoch:16, train_loss: 0.10263, train_acc: 97.3% ,test_loss: 0.52576, test_acc: 84.2%\n",
      "epoch:17, train_loss: 0.08577, train_acc: 97.9% ,test_loss: 0.55930, test_acc: 84.4%\n",
      "epoch:18, train_loss: 0.07269, train_acc: 98.3% ,test_loss: 0.59011, test_acc: 84.5%\n",
      "epoch:19, train_loss: 0.06335, train_acc: 98.6% ,test_loss: 0.60821, test_acc: 84.3%\n",
      "epoch:20, train_loss: 0.05706, train_acc: 98.7% ,test_loss: 0.59220, test_acc: 84.1%\n",
      "epoch:21, train_loss: 0.05131, train_acc: 98.9% ,test_loss: 0.62850, test_acc: 84.5%\n",
      "epoch:22, train_loss: 0.04518, train_acc: 99.0% ,test_loss: 0.62696, test_acc: 84.0%\n",
      "epoch:23, train_loss: 0.04158, train_acc: 99.1% ,test_loss: 0.61498, test_acc: 84.6%\n",
      "epoch:24, train_loss: 0.03753, train_acc: 99.2% ,test_loss: 0.63472, test_acc: 84.1%\n",
      "epoch:25, train_loss: 0.03328, train_acc: 99.3% ,test_loss: 0.74586, test_acc: 84.6%\n",
      "epoch:26, train_loss: 0.03213, train_acc: 99.3% ,test_loss: 0.70182, test_acc: 84.6%\n",
      "epoch:27, train_loss: 0.02766, train_acc: 99.4% ,test_loss: 0.71342, test_acc: 84.6%\n",
      "epoch:28, train_loss: 0.02531, train_acc: 99.4% ,test_loss: 0.76255, test_acc: 84.4%\n",
      "epoch:29, train_loss: 0.02227, train_acc: 99.4% ,test_loss: 0.74665, test_acc: 84.7%\n",
      "epoch:30, train_loss: 0.01811, train_acc: 99.5% ,test_loss: 0.79624, test_acc: 84.7%\n",
      "epoch:31, train_loss: 0.01743, train_acc: 99.5% ,test_loss: 0.79401, test_acc: 84.7%\n",
      "epoch:32, train_loss: 0.01700, train_acc: 99.5% ,test_loss: 0.77805, test_acc: 84.6%\n",
      "epoch:33, train_loss: 0.01606, train_acc: 99.5% ,test_loss: 0.88634, test_acc: 84.8%\n",
      "epoch:34, train_loss: 0.01522, train_acc: 99.6% ,test_loss: 0.86396, test_acc: 84.8%\n",
      "epoch:35, train_loss: 0.01509, train_acc: 99.5% ,test_loss: 0.83588, test_acc: 84.8%\n",
      "epoch:36, train_loss: 0.01447, train_acc: 99.6% ,test_loss: 0.89528, test_acc: 84.9%\n",
      "epoch:37, train_loss: 0.01449, train_acc: 99.6% ,test_loss: 0.84509, test_acc: 84.7%\n",
      "epoch:38, train_loss: 0.01412, train_acc: 99.6% ,test_loss: 0.86246, test_acc: 84.7%\n",
      "epoch:39, train_loss: 0.01367, train_acc: 99.6% ,test_loss: 0.88045, test_acc: 84.7%\n",
      "epoch:40, train_loss: 0.01302, train_acc: 99.6% ,test_loss: 0.87827, test_acc: 84.6%\n",
      "epoch:41, train_loss: 0.01281, train_acc: 99.6% ,test_loss: 0.87976, test_acc: 84.7%\n",
      "epoch:42, train_loss: 0.01269, train_acc: 99.6% ,test_loss: 0.90360, test_acc: 84.7%\n",
      "epoch:43, train_loss: 0.01230, train_acc: 99.6% ,test_loss: 0.90518, test_acc: 84.8%\n",
      "epoch:44, train_loss: 0.01219, train_acc: 99.6% ,test_loss: 0.88305, test_acc: 84.6%\n",
      "epoch:45, train_loss: 0.01102, train_acc: 99.6% ,test_loss: 0.92137, test_acc: 84.7%\n",
      "epoch:46, train_loss: 0.01103, train_acc: 99.7% ,test_loss: 0.93830, test_acc: 84.7%\n",
      "epoch:47, train_loss: 0.01136, train_acc: 99.7% ,test_loss: 0.94346, test_acc: 84.7%\n",
      "epoch:48, train_loss: 0.01122, train_acc: 99.7% ,test_loss: 0.94277, test_acc: 84.7%\n",
      "epoch:49, train_loss: 0.01131, train_acc: 99.7% ,test_loss: 0.93391, test_acc: 84.6%\n",
      "epoch:50, train_loss: 0.01118, train_acc: 99.7% ,test_loss: 0.93697, test_acc: 84.6%\n",
      "epoch:51, train_loss: 0.01134, train_acc: 99.7% ,test_loss: 0.94353, test_acc: 84.6%\n",
      "epoch:52, train_loss: 0.01143, train_acc: 99.7% ,test_loss: 0.95241, test_acc: 84.6%\n",
      "epoch:53, train_loss: 0.01114, train_acc: 99.7% ,test_loss: 0.94443, test_acc: 84.6%\n",
      "epoch:54, train_loss: 0.01099, train_acc: 99.7% ,test_loss: 0.94568, test_acc: 84.6%\n",
      "epoch:55, train_loss: 0.01099, train_acc: 99.7% ,test_loss: 0.95337, test_acc: 84.6%\n",
      "epoch:56, train_loss: 0.01099, train_acc: 99.7% ,test_loss: 0.96076, test_acc: 84.6%\n",
      "epoch:57, train_loss: 0.01115, train_acc: 99.7% ,test_loss: 0.96316, test_acc: 84.6%\n",
      "epoch:58, train_loss: 0.01116, train_acc: 99.7% ,test_loss: 0.95679, test_acc: 84.6%\n",
      "epoch:59, train_loss: 0.01068, train_acc: 99.7% ,test_loss: 0.94736, test_acc: 84.5%\n",
      "epoch:60, train_loss: 0.01125, train_acc: 99.7% ,test_loss: 0.94820, test_acc: 84.5%\n",
      "epoch:61, train_loss: 0.01074, train_acc: 99.7% ,test_loss: 0.95048, test_acc: 84.6%\n",
      "epoch:62, train_loss: 0.01092, train_acc: 99.7% ,test_loss: 0.95178, test_acc: 84.6%\n",
      "epoch:63, train_loss: 0.01093, train_acc: 99.7% ,test_loss: 0.95187, test_acc: 84.6%\n",
      "epoch:64, train_loss: 0.01095, train_acc: 99.7% ,test_loss: 0.95308, test_acc: 84.6%\n",
      "epoch:65, train_loss: 0.01046, train_acc: 99.7% ,test_loss: 0.95353, test_acc: 84.6%\n",
      "epoch:66, train_loss: 0.01062, train_acc: 99.7% ,test_loss: 0.95421, test_acc: 84.6%\n",
      "epoch:67, train_loss: 0.01178, train_acc: 99.7% ,test_loss: 0.95447, test_acc: 84.6%\n",
      "epoch:68, train_loss: 0.01068, train_acc: 99.7% ,test_loss: 0.95500, test_acc: 84.6%\n",
      "epoch:69, train_loss: 0.01233, train_acc: 99.7% ,test_loss: 0.95466, test_acc: 84.6%\n",
      "epoch:70, train_loss: 0.01081, train_acc: 99.7% ,test_loss: 0.95511, test_acc: 84.6%\n",
      "epoch:71, train_loss: 0.01076, train_acc: 99.7% ,test_loss: 0.95512, test_acc: 84.6%\n",
      "epoch:72, train_loss: 0.01071, train_acc: 99.7% ,test_loss: 0.95637, test_acc: 84.6%\n",
      "epoch:73, train_loss: 0.01064, train_acc: 99.7% ,test_loss: 0.95661, test_acc: 84.6%\n",
      "epoch:74, train_loss: 0.01066, train_acc: 99.7% ,test_loss: 0.95692, test_acc: 84.6%\n",
      "epoch:75, train_loss: 0.01073, train_acc: 99.7% ,test_loss: 0.95691, test_acc: 84.6%\n",
      "epoch:76, train_loss: 0.01051, train_acc: 99.7% ,test_loss: 0.95698, test_acc: 84.6%\n",
      "epoch:77, train_loss: 0.01069, train_acc: 99.7% ,test_loss: 0.95695, test_acc: 84.6%\n",
      "epoch:78, train_loss: 0.01095, train_acc: 99.7% ,test_loss: 0.95705, test_acc: 84.6%\n",
      "epoch:79, train_loss: 0.01087, train_acc: 99.7% ,test_loss: 0.95708, test_acc: 84.6%\n",
      "epoch:80, train_loss: 0.01084, train_acc: 99.7% ,test_loss: 0.95721, test_acc: 84.6%\n",
      "epoch:81, train_loss: 0.01073, train_acc: 99.7% ,test_loss: 0.95725, test_acc: 84.6%\n",
      "epoch:82, train_loss: 0.01055, train_acc: 99.7% ,test_loss: 0.95728, test_acc: 84.6%\n",
      "epoch:83, train_loss: 0.01067, train_acc: 99.7% ,test_loss: 0.95724, test_acc: 84.6%\n",
      "epoch:84, train_loss: 0.01059, train_acc: 99.7% ,test_loss: 0.95727, test_acc: 84.6%\n",
      "epoch:85, train_loss: 0.01121, train_acc: 99.7% ,test_loss: 0.95731, test_acc: 84.6%\n",
      "epoch:86, train_loss: 0.01114, train_acc: 99.7% ,test_loss: 0.95729, test_acc: 84.6%\n",
      "epoch:87, train_loss: 0.01157, train_acc: 99.7% ,test_loss: 0.95726, test_acc: 84.6%\n",
      "epoch:88, train_loss: 0.01057, train_acc: 99.7% ,test_loss: 0.95724, test_acc: 84.6%\n",
      "epoch:89, train_loss: 0.01149, train_acc: 99.7% ,test_loss: 0.95722, test_acc: 84.6%\n",
      "epoch:90, train_loss: 0.01070, train_acc: 99.7% ,test_loss: 0.95722, test_acc: 84.6%\n",
      "epoch:91, train_loss: 0.01275, train_acc: 99.7% ,test_loss: 0.95722, test_acc: 84.6%\n",
      "epoch:92, train_loss: 0.01057, train_acc: 99.7% ,test_loss: 0.95723, test_acc: 84.6%\n",
      "epoch:93, train_loss: 0.01061, train_acc: 99.7% ,test_loss: 0.95723, test_acc: 84.6%\n",
      "epoch:94, train_loss: 0.01045, train_acc: 99.7% ,test_loss: 0.95723, test_acc: 84.6%\n",
      "epoch:95, train_loss: 0.01157, train_acc: 99.7% ,test_loss: 0.95724, test_acc: 84.6%\n",
      "epoch:96, train_loss: 0.01182, train_acc: 99.7% ,test_loss: 0.95724, test_acc: 84.6%\n",
      "epoch:97, train_loss: 0.01054, train_acc: 99.7% ,test_loss: 0.95724, test_acc: 84.6%\n",
      "epoch:98, train_loss: 0.01092, train_acc: 99.7% ,test_loss: 0.95724, test_acc: 84.6%\n",
      "epoch:99, train_loss: 0.01061, train_acc: 99.7% ,test_loss: 0.95725, test_acc: 84.6%\n",
      "Done!\n"
     ]
    }
   ],
   "source": [
    "train_loss, test_loss, train_acc, test_acc = fit(EPOCHS, train_dataloader, test_dataloader)"
   ]
  },
  {
   "cell_type": "code",
   "execution_count": null,
   "id": "2b81bd9a",
   "metadata": {
    "papermill": {
     "duration": 0.06669,
     "end_time": "2021-12-09T17:30:09.746499",
     "exception": false,
     "start_time": "2021-12-09T17:30:09.679809",
     "status": "completed"
    },
    "tags": []
   },
   "outputs": [],
   "source": []
  },
  {
   "cell_type": "code",
   "execution_count": null,
   "id": "11728c92",
   "metadata": {
    "papermill": {
     "duration": 0.067801,
     "end_time": "2021-12-09T17:30:09.880639",
     "exception": false,
     "start_time": "2021-12-09T17:30:09.812838",
     "status": "completed"
    },
    "tags": []
   },
   "outputs": [],
   "source": []
  },
  {
   "cell_type": "code",
   "execution_count": null,
   "id": "2be0ac11",
   "metadata": {
    "papermill": {
     "duration": 0.066,
     "end_time": "2021-12-09T17:30:10.013678",
     "exception": false,
     "start_time": "2021-12-09T17:30:09.947678",
     "status": "completed"
    },
    "tags": []
   },
   "outputs": [],
   "source": []
  },
  {
   "cell_type": "code",
   "execution_count": null,
   "id": "d4074680",
   "metadata": {
    "papermill": {
     "duration": 0.067024,
     "end_time": "2021-12-09T17:30:10.147975",
     "exception": false,
     "start_time": "2021-12-09T17:30:10.080951",
     "status": "completed"
    },
    "tags": []
   },
   "outputs": [],
   "source": []
  }
 ],
 "metadata": {
  "kernelspec": {
   "display_name": "Python 3 (ipykernel)",
   "language": "python",
   "name": "python3"
  },
  "language_info": {
   "codemirror_mode": {
    "name": "ipython",
    "version": 3
   },
   "file_extension": ".py",
   "mimetype": "text/x-python",
   "name": "python",
   "nbconvert_exporter": "python",
   "pygments_lexer": "ipython3",
   "version": "3.8.12"
  },
  "papermill": {
   "default_parameters": {},
   "duration": 2863.29538,
   "end_time": "2021-12-09T17:30:11.434354",
   "environment_variables": {},
   "exception": null,
   "input_path": "__notebook__.ipynb",
   "output_path": "__notebook__.ipynb",
   "parameters": {},
   "start_time": "2021-12-09T16:42:28.138974",
   "version": "2.3.3"
  }
 },
 "nbformat": 4,
 "nbformat_minor": 5
}
