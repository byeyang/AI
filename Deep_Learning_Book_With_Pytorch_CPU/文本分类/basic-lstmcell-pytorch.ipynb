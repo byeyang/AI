{
 "cells": [
  {
   "cell_type": "code",
   "execution_count": 1,
   "id": "249daa8f",
   "metadata": {
    "execution": {
     "iopub.execute_input": "2022-02-27T15:45:22.864537Z",
     "iopub.status.busy": "2022-02-27T15:45:22.863770Z",
     "iopub.status.idle": "2022-02-27T15:45:24.373474Z",
     "shell.execute_reply": "2022-02-27T15:45:24.372346Z",
     "shell.execute_reply.started": "2022-02-27T15:39:09.546604Z"
    },
    "papermill": {
     "duration": 1.573488,
     "end_time": "2022-02-27T15:45:24.373633",
     "exception": false,
     "start_time": "2022-02-27T15:45:22.800145",
     "status": "completed"
    },
    "tags": []
   },
   "outputs": [
    {
     "name": "stderr",
     "output_type": "stream",
     "text": [
      "C:\\ProgramData\\Miniconda3\\envs\\pth111\\lib\\site-packages\\tqdm\\auto.py:22: TqdmWarning: IProgress not found. Please update jupyter and ipywidgets. See https://ipywidgets.readthedocs.io/en/stable/user_install.html\n",
      "  from .autonotebook import tqdm as notebook_tqdm\n"
     ]
    }
   ],
   "source": [
    "import torch\n",
    "import torchtext\n",
    "import numpy as np\n",
    "import torch.nn as nn\n",
    "import torch.nn.functional as F\n",
    "from torch.utils import data\n",
    "from torch.utils.data import DataLoader\n",
    "from torchtext.data.utils import get_tokenizer            # 分词工具\n",
    "from torchtext.vocab import build_vocab_from_iterator     # 创建词表工具\n",
    "from torchtext.data.functional import to_map_style_dataset"
   ]
  },
  {
   "cell_type": "code",
   "execution_count": 2,
   "id": "ea9749b3",
   "metadata": {
    "execution": {
     "iopub.execute_input": "2022-02-27T15:45:24.491938Z",
     "iopub.status.busy": "2022-02-27T15:45:24.491071Z",
     "iopub.status.idle": "2022-02-27T15:45:24.494881Z",
     "shell.execute_reply": "2022-02-27T15:45:24.495397Z",
     "shell.execute_reply.started": "2022-02-27T15:39:09.557293Z"
    },
    "papermill": {
     "duration": 0.078522,
     "end_time": "2022-02-27T15:45:24.495534",
     "exception": false,
     "start_time": "2022-02-27T15:45:24.417012",
     "status": "completed"
    },
    "tags": []
   },
   "outputs": [
    {
     "data": {
      "text/plain": [
       "'1.11.0+cpu'"
      ]
     },
     "execution_count": 2,
     "metadata": {},
     "output_type": "execute_result"
    }
   ],
   "source": [
    "torch.__version__"
   ]
  },
  {
   "cell_type": "code",
   "execution_count": 3,
   "id": "d85b8a88",
   "metadata": {
    "execution": {
     "iopub.execute_input": "2022-02-27T15:45:24.616365Z",
     "iopub.status.busy": "2022-02-27T15:45:24.615675Z",
     "iopub.status.idle": "2022-02-27T15:45:24.618218Z",
     "shell.execute_reply": "2022-02-27T15:45:24.618714Z",
     "shell.execute_reply.started": "2022-02-27T15:39:09.568631Z"
    },
    "papermill": {
     "duration": 0.070332,
     "end_time": "2022-02-27T15:45:24.618844",
     "exception": false,
     "start_time": "2022-02-27T15:45:24.548512",
     "status": "completed"
    },
    "tags": []
   },
   "outputs": [
    {
     "data": {
      "text/plain": [
       "'0.12.0'"
      ]
     },
     "execution_count": 3,
     "metadata": {},
     "output_type": "execute_result"
    }
   ],
   "source": [
    "torchtext.__version__"
   ]
  },
  {
   "cell_type": "markdown",
   "id": "4800ea45",
   "metadata": {
    "papermill": {
     "duration": 0.046612,
     "end_time": "2022-02-27T15:45:24.711491",
     "exception": false,
     "start_time": "2022-02-27T15:45:24.664879",
     "status": "completed"
    },
    "tags": []
   },
   "source": [
    "# TorchText文本分类数据集"
   ]
  },
  {
   "cell_type": "code",
   "execution_count": 4,
   "id": "2e9dcea2",
   "metadata": {
    "execution": {
     "iopub.execute_input": "2022-02-27T15:45:24.809151Z",
     "iopub.status.busy": "2022-02-27T15:45:24.808336Z",
     "iopub.status.idle": "2022-02-27T15:46:07.901340Z",
     "shell.execute_reply": "2022-02-27T15:46:07.900435Z",
     "shell.execute_reply.started": "2022-02-27T15:39:09.577455Z"
    },
    "papermill": {
     "duration": 43.144029,
     "end_time": "2022-02-27T15:46:07.901490",
     "exception": false,
     "start_time": "2022-02-27T15:45:24.757461",
     "status": "completed"
    },
    "tags": []
   },
   "outputs": [
    {
     "name": "stderr",
     "output_type": "stream",
     "text": [
      "C:\\ProgramData\\Miniconda3\\envs\\pth111\\lib\\site-packages\\torch\\utils\\data\\datapipes\\utils\\common.py:24: UserWarning: Lambda function is not supported for pickle, please use regular python function or functools.partial instead.\n",
      "  warnings.warn(\n",
      "C:\\ProgramData\\Miniconda3\\envs\\pth111\\lib\\site-packages\\torch\\utils\\data\\datapipes\\iter\\selecting.py:54: UserWarning: Lambda function is not supported for pickle, please use regular python function or functools.partial instead.\n",
      "  warnings.warn(\"Lambda function is not supported for pickle, please use \"\n"
     ]
    }
   ],
   "source": [
    "train_iter, test_iter = torchtext.datasets.IMDB()"
   ]
  },
  {
   "cell_type": "code",
   "execution_count": 5,
   "id": "85a701b2",
   "metadata": {
    "execution": {
     "iopub.execute_input": "2022-02-27T15:46:08.063304Z",
     "iopub.status.busy": "2022-02-27T15:46:08.062526Z",
     "iopub.status.idle": "2022-02-27T15:46:08.065623Z",
     "shell.execute_reply": "2022-02-27T15:46:08.066207Z",
     "shell.execute_reply.started": "2022-02-27T15:39:35.797423Z"
    },
    "papermill": {
     "duration": 0.043654,
     "end_time": "2022-02-27T15:46:08.066367",
     "exception": false,
     "start_time": "2022-02-27T15:46:08.022713",
     "status": "completed"
    },
    "tags": []
   },
   "outputs": [],
   "source": [
    "tokenizer = get_tokenizer('basic_english')             # 初始化分词工具"
   ]
  },
  {
   "cell_type": "code",
   "execution_count": 6,
   "id": "0e67d9ce",
   "metadata": {
    "execution": {
     "iopub.execute_input": "2022-02-27T15:46:08.148512Z",
     "iopub.status.busy": "2022-02-27T15:46:08.147718Z",
     "iopub.status.idle": "2022-02-27T15:46:36.285111Z",
     "shell.execute_reply": "2022-02-27T15:46:36.284598Z",
     "shell.execute_reply.started": "2022-02-27T15:39:35.806775Z"
    },
    "papermill": {
     "duration": 28.181137,
     "end_time": "2022-02-27T15:46:36.285257",
     "exception": false,
     "start_time": "2022-02-27T15:46:08.104120",
     "status": "completed"
    },
    "tags": []
   },
   "outputs": [],
   "source": [
    "def yield_tokens(data):\n",
    "    for _, text in data:\n",
    "        yield tokenizer(text)\n",
    "\n",
    "vocab = build_vocab_from_iterator(yield_tokens(train_iter), specials=[\"<pad>\", \"<unk>\"])"
   ]
  },
  {
   "cell_type": "code",
   "execution_count": 7,
   "id": "0360b9f8",
   "metadata": {
    "execution": {
     "iopub.execute_input": "2022-02-27T15:46:36.363858Z",
     "iopub.status.busy": "2022-02-27T15:46:36.363204Z",
     "iopub.status.idle": "2022-02-27T15:46:36.365916Z",
     "shell.execute_reply": "2022-02-27T15:46:36.366456Z",
     "shell.execute_reply.started": "2022-02-27T15:40:02.698170Z"
    },
    "papermill": {
     "duration": 0.044319,
     "end_time": "2022-02-27T15:46:36.366584",
     "exception": false,
     "start_time": "2022-02-27T15:46:36.322265",
     "status": "completed"
    },
    "tags": []
   },
   "outputs": [],
   "source": [
    "vocab.set_default_index(vocab[\"<unk>\"])"
   ]
  },
  {
   "cell_type": "raw",
   "id": "4a4c09fb",
   "metadata": {
    "papermill": {
     "duration": 0.03815,
     "end_time": "2022-02-27T15:46:36.608563",
     "exception": false,
     "start_time": "2022-02-27T15:46:36.570413",
     "status": "completed"
    },
    "tags": []
   },
   "source": [
    "处理文本的思路：\n",
    "   1. 分词\n",
    "   2. 生成词表   he--30， her--31\n",
    "   3. 词嵌入     30--》（0.2， 0.4， 0.2， 0.9， 2.1）  独热编码  tf-idf  hash"
   ]
  },
  {
   "cell_type": "code",
   "execution_count": 8,
   "id": "bef64f3e",
   "metadata": {
    "execution": {
     "iopub.execute_input": "2022-02-27T15:46:42.342582Z",
     "iopub.status.busy": "2022-02-27T15:46:42.341778Z",
     "iopub.status.idle": "2022-02-27T15:46:42.343779Z",
     "shell.execute_reply": "2022-02-27T15:46:42.344189Z",
     "shell.execute_reply.started": "2022-02-27T15:40:07.938754Z"
    },
    "papermill": {
     "duration": 0.045046,
     "end_time": "2022-02-27T15:46:42.344323",
     "exception": false,
     "start_time": "2022-02-27T15:46:42.299277",
     "status": "completed"
    },
    "tags": []
   },
   "outputs": [],
   "source": [
    "text_pipeline = lambda x: vocab(tokenizer(x))\n",
    "label_pipeline = lambda x: int(x == 'pos')"
   ]
  },
  {
   "cell_type": "code",
   "execution_count": 9,
   "id": "23f28464",
   "metadata": {
    "execution": {
     "iopub.execute_input": "2022-02-27T15:46:42.667650Z",
     "iopub.status.busy": "2022-02-27T15:46:42.666800Z",
     "iopub.status.idle": "2022-02-27T15:46:42.669444Z",
     "shell.execute_reply": "2022-02-27T15:46:42.668720Z",
     "shell.execute_reply.started": "2022-02-27T15:40:07.990088Z"
    },
    "papermill": {
     "duration": 0.093067,
     "end_time": "2022-02-27T15:46:42.669561",
     "exception": false,
     "start_time": "2022-02-27T15:46:42.576494",
     "status": "completed"
    },
    "tags": []
   },
   "outputs": [],
   "source": [
    "device = torch.device('cuda' if torch.cuda.is_available() else 'cpu')"
   ]
  },
  {
   "cell_type": "code",
   "execution_count": 10,
   "id": "d11a2989",
   "metadata": {
    "execution": {
     "iopub.execute_input": "2022-02-27T15:46:42.754135Z",
     "iopub.status.busy": "2022-02-27T15:46:42.753365Z",
     "iopub.status.idle": "2022-02-27T15:46:42.755829Z",
     "shell.execute_reply": "2022-02-27T15:46:42.755425Z",
     "shell.execute_reply.started": "2022-02-27T15:40:07.999692Z"
    },
    "papermill": {
     "duration": 0.047221,
     "end_time": "2022-02-27T15:46:42.755956",
     "exception": false,
     "start_time": "2022-02-27T15:46:42.708735",
     "status": "completed"
    },
    "tags": []
   },
   "outputs": [],
   "source": [
    "def collate_batch(batch):\n",
    "    label_list, text_list = [], []\n",
    "    for (_label, _text) in batch:\n",
    "        label_list.append(label_pipeline(_label))\n",
    "        precess_text = torch.tensor(text_pipeline(_text), dtype=torch.int64)\n",
    "        text_list.append(precess_text)\n",
    "    label_list = torch.tensor(label_list)\n",
    "    text_list = torch.nn.utils.rnn.pad_sequence(text_list)\n",
    "    return label_list.to(device), text_list.to(device)"
   ]
  },
  {
   "cell_type": "code",
   "execution_count": 11,
   "id": "be476b6c",
   "metadata": {},
   "outputs": [],
   "source": [
    "train_dataset = to_map_style_dataset(train_iter)\n",
    "test_dataset = to_map_style_dataset(test_iter)"
   ]
  },
  {
   "cell_type": "code",
   "execution_count": 12,
   "id": "51278a02",
   "metadata": {},
   "outputs": [],
   "source": [
    "train_dataloader = DataLoader(train_dataset, batch_size=64, \n",
    "                              shuffle=True, collate_fn=collate_batch)\n",
    "test_dataloader = DataLoader(test_dataset, batch_size=64, \n",
    "                             shuffle=True, collate_fn=collate_batch)"
   ]
  },
  {
   "cell_type": "code",
   "execution_count": 13,
   "id": "5ef6c952",
   "metadata": {
    "execution": {
     "iopub.execute_input": "2022-02-27T15:46:42.925831Z",
     "iopub.status.busy": "2022-02-27T15:46:42.925263Z",
     "iopub.status.idle": "2022-02-27T15:46:46.415095Z",
     "shell.execute_reply": "2022-02-27T15:46:46.415998Z",
     "shell.execute_reply.started": "2022-02-27T15:40:08.025834Z"
    },
    "papermill": {
     "duration": 3.535173,
     "end_time": "2022-02-27T15:46:46.416211",
     "exception": false,
     "start_time": "2022-02-27T15:46:42.881038",
     "status": "completed"
    },
    "tags": []
   },
   "outputs": [],
   "source": [
    "label_batch, img_batch = next(iter(train_dataloader))"
   ]
  },
  {
   "cell_type": "code",
   "execution_count": 14,
   "id": "fa78cf1e",
   "metadata": {},
   "outputs": [
    {
     "data": {
      "text/plain": [
       "torch.Size([64])"
      ]
     },
     "execution_count": 14,
     "metadata": {},
     "output_type": "execute_result"
    }
   ],
   "source": [
    "label_batch.shape"
   ]
  },
  {
   "cell_type": "code",
   "execution_count": 15,
   "id": "d5c61236",
   "metadata": {},
   "outputs": [
    {
     "data": {
      "text/plain": [
       "torch.Size([1124, 64])"
      ]
     },
     "execution_count": 15,
     "metadata": {},
     "output_type": "execute_result"
    }
   ],
   "source": [
    "img_batch.shape"
   ]
  },
  {
   "cell_type": "markdown",
   "id": "50d73a03",
   "metadata": {
    "papermill": {
     "duration": 0.040203,
     "end_time": "2022-02-27T15:46:46.498428",
     "exception": false,
     "start_time": "2022-02-27T15:46:46.458225",
     "status": "completed"
    },
    "tags": []
   },
   "source": [
    "# 创建模型"
   ]
  },
  {
   "cell_type": "code",
   "execution_count": 16,
   "id": "559bb5ab",
   "metadata": {
    "execution": {
     "iopub.execute_input": "2022-02-27T15:46:46.583287Z",
     "iopub.status.busy": "2022-02-27T15:46:46.582527Z",
     "iopub.status.idle": "2022-02-27T15:46:46.585034Z",
     "shell.execute_reply": "2022-02-27T15:46:46.584600Z",
     "shell.execute_reply.started": "2022-02-27T15:40:08.962549Z"
    },
    "papermill": {
     "duration": 0.046178,
     "end_time": "2022-02-27T15:46:46.585156",
     "exception": false,
     "start_time": "2022-02-27T15:46:46.538978",
     "status": "completed"
    },
    "tags": []
   },
   "outputs": [],
   "source": [
    "vocab_size = len(vocab)"
   ]
  },
  {
   "cell_type": "code",
   "execution_count": 17,
   "id": "b46dc848",
   "metadata": {
    "execution": {
     "iopub.execute_input": "2022-02-27T15:46:46.670024Z",
     "iopub.status.busy": "2022-02-27T15:46:46.669257Z",
     "iopub.status.idle": "2022-02-27T15:46:46.672200Z",
     "shell.execute_reply": "2022-02-27T15:46:46.672640Z",
     "shell.execute_reply.started": "2022-02-27T15:40:08.970144Z"
    },
    "papermill": {
     "duration": 0.047246,
     "end_time": "2022-02-27T15:46:46.672762",
     "exception": false,
     "start_time": "2022-02-27T15:46:46.625516",
     "status": "completed"
    },
    "tags": []
   },
   "outputs": [
    {
     "data": {
      "text/plain": [
       "100684"
      ]
     },
     "execution_count": 17,
     "metadata": {},
     "output_type": "execute_result"
    }
   ],
   "source": [
    "vocab_size"
   ]
  },
  {
   "cell_type": "code",
   "execution_count": 18,
   "id": "142081a9",
   "metadata": {
    "execution": {
     "iopub.execute_input": "2022-02-27T15:46:46.755543Z",
     "iopub.status.busy": "2022-02-27T15:46:46.754723Z",
     "iopub.status.idle": "2022-02-27T15:46:46.758311Z",
     "shell.execute_reply": "2022-02-27T15:46:46.758710Z",
     "shell.execute_reply.started": "2022-02-27T15:40:08.981462Z"
    },
    "papermill": {
     "duration": 0.046112,
     "end_time": "2022-02-27T15:46:46.758836",
     "exception": false,
     "start_time": "2022-02-27T15:46:46.712724",
     "status": "completed"
    },
    "tags": []
   },
   "outputs": [],
   "source": [
    "embeding_dim = 300\n",
    "hidden_size = 128"
   ]
  },
  {
   "cell_type": "code",
   "execution_count": 19,
   "id": "0a65316e",
   "metadata": {
    "execution": {
     "iopub.execute_input": "2022-02-27T15:46:46.898417Z",
     "iopub.status.busy": "2022-02-27T15:46:46.897491Z",
     "iopub.status.idle": "2022-02-27T15:46:46.899397Z",
     "shell.execute_reply": "2022-02-27T15:46:46.899796Z",
     "shell.execute_reply.started": "2022-02-27T15:40:08.989303Z"
    },
    "papermill": {
     "duration": 0.097896,
     "end_time": "2022-02-27T15:46:46.899943",
     "exception": false,
     "start_time": "2022-02-27T15:46:46.802047",
     "status": "completed"
    },
    "tags": []
   },
   "outputs": [],
   "source": [
    "class RNN_Encoder(nn.Module):\n",
    "    def __init__(self, input_dim, hidden_size):\n",
    "        super(RNN_Encoder, self).__init__()\n",
    "        self.rnn_cell = nn.LSTMCell(input_dim, hidden_size)\n",
    "    def forward(self, inputs):\n",
    "        bz = inputs.shape[1]\n",
    "        ht = torch.zeros((bz, hidden_size)).to(device)\n",
    "        ct = torch.zeros((bz, hidden_size)).to(device)\n",
    "        for word in inputs:\n",
    "            ht, ct = self.rnn_cell(word, (ht, ct))\n",
    "        return ht"
   ]
  },
  {
   "cell_type": "code",
   "execution_count": 20,
   "id": "27d862fb",
   "metadata": {
    "execution": {
     "iopub.execute_input": "2022-02-27T15:46:46.988749Z",
     "iopub.status.busy": "2022-02-27T15:46:46.987963Z",
     "iopub.status.idle": "2022-02-27T15:46:46.990694Z",
     "shell.execute_reply": "2022-02-27T15:46:46.991121Z",
     "shell.execute_reply.started": "2022-02-27T15:40:08.998542Z"
    },
    "papermill": {
     "duration": 0.050162,
     "end_time": "2022-02-27T15:46:46.991261",
     "exception": false,
     "start_time": "2022-02-27T15:46:46.941099",
     "status": "completed"
    },
    "tags": []
   },
   "outputs": [],
   "source": [
    "class RNN_Net(nn.Module):\n",
    "    def __init__(self, vocab_size, embeding_dim, hidden_size):\n",
    "        super(RNN_Net, self).__init__()\n",
    "        self.em = nn.Embedding(vocab_size, embeding_dim)   \n",
    "        self.rnn = RNN_Encoder(embeding_dim, hidden_size)\n",
    "        self.fc1 = nn.Linear(hidden_size, 64)\n",
    "        self.fc2 = nn.Linear(64, 2)\n",
    "\n",
    "    def forward(self, inputs):\n",
    "        x = self.em(inputs)\n",
    "        x = self.rnn(x)\n",
    "        x = F.relu(self.fc1(x))\n",
    "        x = self.fc2(x)\n",
    "        return x"
   ]
  },
  {
   "cell_type": "code",
   "execution_count": 21,
   "id": "445cf208",
   "metadata": {
    "execution": {
     "iopub.execute_input": "2022-02-27T15:46:47.077844Z",
     "iopub.status.busy": "2022-02-27T15:46:47.077270Z",
     "iopub.status.idle": "2022-02-27T15:46:47.167288Z",
     "shell.execute_reply": "2022-02-27T15:46:47.167715Z",
     "shell.execute_reply.started": "2022-02-27T15:40:09.009666Z"
    },
    "papermill": {
     "duration": 0.135749,
     "end_time": "2022-02-27T15:46:47.167877",
     "exception": false,
     "start_time": "2022-02-27T15:46:47.032128",
     "status": "completed"
    },
    "tags": []
   },
   "outputs": [],
   "source": [
    "model = RNN_Net(vocab_size, embeding_dim, hidden_size).to(device)"
   ]
  },
  {
   "cell_type": "code",
   "execution_count": 22,
   "id": "e9f8896e",
   "metadata": {
    "execution": {
     "iopub.execute_input": "2022-02-27T15:46:47.254299Z",
     "iopub.status.busy": "2022-02-27T15:46:47.253460Z",
     "iopub.status.idle": "2022-02-27T15:46:47.255936Z",
     "shell.execute_reply": "2022-02-27T15:46:47.255480Z",
     "shell.execute_reply.started": "2022-02-27T15:40:09.099539Z"
    },
    "papermill": {
     "duration": 0.047434,
     "end_time": "2022-02-27T15:46:47.256055",
     "exception": false,
     "start_time": "2022-02-27T15:46:47.208621",
     "status": "completed"
    },
    "tags": []
   },
   "outputs": [],
   "source": [
    "loss_fn = nn.CrossEntropyLoss()\n",
    "from torch.optim import lr_scheduler\n",
    "optimizer = torch.optim.Adam(model.parameters(), betas=(0.5, 0.5), lr=0.001)\n",
    "exp_lr_scheduler = lr_scheduler.StepLR(optimizer, step_size=15, gamma=0.1)"
   ]
  },
  {
   "cell_type": "code",
   "execution_count": 23,
   "id": "793bc9b9",
   "metadata": {
    "execution": {
     "iopub.execute_input": "2022-02-27T15:46:47.343212Z",
     "iopub.status.busy": "2022-02-27T15:46:47.342448Z",
     "iopub.status.idle": "2022-02-27T15:46:47.344567Z",
     "shell.execute_reply": "2022-02-27T15:46:47.344984Z",
     "shell.execute_reply.started": "2022-02-27T15:40:09.108890Z"
    },
    "papermill": {
     "duration": 0.048633,
     "end_time": "2022-02-27T15:46:47.345120",
     "exception": false,
     "start_time": "2022-02-27T15:46:47.296487",
     "status": "completed"
    },
    "tags": []
   },
   "outputs": [],
   "source": [
    "def train(dataloader):\n",
    "    total_acc, total_count, total_loss, = 0, 0, 0\n",
    "    model.train()\n",
    "    for label, text in dataloader:\n",
    "        predicted_label = model(text)\n",
    "        loss = loss_fn(predicted_label, label)\n",
    "        # Backpropagation\n",
    "        optimizer.zero_grad()\n",
    "        loss.backward()\n",
    "        optimizer.step()\n",
    "        \n",
    "        with torch.no_grad():\n",
    "            total_acc += (predicted_label.argmax(1) == label).sum().item()\n",
    "            total_count += label.size(0)\n",
    "            total_loss += loss.item()*label.size(0)\n",
    "    return total_loss/total_count, total_acc/total_count"
   ]
  },
  {
   "cell_type": "code",
   "execution_count": 24,
   "id": "6c150d58",
   "metadata": {
    "execution": {
     "iopub.execute_input": "2022-02-27T15:46:47.433500Z",
     "iopub.status.busy": "2022-02-27T15:46:47.432601Z",
     "iopub.status.idle": "2022-02-27T15:46:47.434279Z",
     "shell.execute_reply": "2022-02-27T15:46:47.434818Z",
     "shell.execute_reply.started": "2022-02-27T15:40:09.117935Z"
    },
    "papermill": {
     "duration": 0.049343,
     "end_time": "2022-02-27T15:46:47.434979",
     "exception": false,
     "start_time": "2022-02-27T15:46:47.385636",
     "status": "completed"
    },
    "tags": []
   },
   "outputs": [],
   "source": [
    "def test(dataloader):\n",
    "    model.eval()\n",
    "    total_acc, total_count, total_loss, = 0, 0, 0\n",
    "\n",
    "    with torch.no_grad():\n",
    "        for label, text in dataloader:\n",
    "            predicted_label = model(text)\n",
    "            loss = loss_fn(predicted_label, label)\n",
    "            total_acc += (predicted_label.argmax(1) == label).sum().item()\n",
    "            total_count += label.size(0)\n",
    "            total_loss += loss.item()*label.size(0)\n",
    "    return total_loss/total_count, total_acc/total_count"
   ]
  },
  {
   "cell_type": "code",
   "execution_count": 25,
   "id": "576941a4",
   "metadata": {
    "execution": {
     "iopub.execute_input": "2022-02-27T15:46:47.523187Z",
     "iopub.status.busy": "2022-02-27T15:46:47.522438Z",
     "iopub.status.idle": "2022-02-27T15:46:47.524403Z",
     "shell.execute_reply": "2022-02-27T15:46:47.524814Z",
     "shell.execute_reply.started": "2022-02-27T15:40:09.128596Z"
    },
    "papermill": {
     "duration": 0.049294,
     "end_time": "2022-02-27T15:46:47.524950",
     "exception": false,
     "start_time": "2022-02-27T15:46:47.475656",
     "status": "completed"
    },
    "tags": []
   },
   "outputs": [],
   "source": [
    "def fit(epochs, train_dl, test_dl):\n",
    "    train_loss = []\n",
    "    train_acc = []\n",
    "    test_loss = []\n",
    "    test_acc = []\n",
    "\n",
    "    for epoch in range(epochs):\n",
    "        epoch_loss, epoch_acc = train(train_dl)\n",
    "        epoch_test_loss, epoch_test_acc = test(test_dl)\n",
    "        train_loss.append(epoch_loss)\n",
    "        train_acc.append(epoch_acc)\n",
    "        test_loss.append(epoch_test_loss)\n",
    "        test_acc.append(epoch_test_acc)\n",
    "        exp_lr_scheduler.step()\n",
    "        template = (\"epoch:{:2d}, train_loss: {:.5f}, train_acc: {:.1f}% ,\" \n",
    "                    \"test_loss: {:.5f}, test_acc: {:.1f}%\")\n",
    "        print(template.format(\n",
    "              epoch, epoch_loss, epoch_acc*100, epoch_test_loss, epoch_test_acc*100))\n",
    "    print(\"Done!\")\n",
    "    \n",
    "    return train_loss, test_loss, train_acc, test_acc"
   ]
  },
  {
   "cell_type": "code",
   "execution_count": 26,
   "id": "7c8df255",
   "metadata": {
    "execution": {
     "iopub.execute_input": "2022-02-27T15:46:47.609439Z",
     "iopub.status.busy": "2022-02-27T15:46:47.608678Z",
     "iopub.status.idle": "2022-02-27T15:46:47.610589Z",
     "shell.execute_reply": "2022-02-27T15:46:47.611004Z",
     "shell.execute_reply.started": "2022-02-27T15:40:09.138181Z"
    },
    "papermill": {
     "duration": 0.046157,
     "end_time": "2022-02-27T15:46:47.611139",
     "exception": false,
     "start_time": "2022-02-27T15:46:47.564982",
     "status": "completed"
    },
    "tags": []
   },
   "outputs": [],
   "source": [
    "EPOCHS = 100"
   ]
  },
  {
   "cell_type": "code",
   "execution_count": 27,
   "id": "df63f0d4",
   "metadata": {
    "execution": {
     "iopub.execute_input": "2022-02-27T15:46:47.697156Z",
     "iopub.status.busy": "2022-02-27T15:46:47.696392Z",
     "iopub.status.idle": "2022-02-27T16:07:58.491291Z",
     "shell.execute_reply": "2022-02-27T16:07:58.491679Z",
     "shell.execute_reply.started": "2022-02-27T15:40:09.146311Z"
    },
    "papermill": {
     "duration": 1270.839572,
     "end_time": "2022-02-27T16:07:58.491846",
     "exception": false,
     "start_time": "2022-02-27T15:46:47.652274",
     "status": "completed"
    },
    "tags": []
   },
   "outputs": [
    {
     "ename": "KeyboardInterrupt",
     "evalue": "",
     "output_type": "error",
     "traceback": [
      "\u001b[1;31m-------------------------------------------------------------------------\u001b[0m",
      "\u001b[1;31mKeyboardInterrupt\u001b[0m                       Traceback (most recent call last)",
      "Input \u001b[1;32mIn [27]\u001b[0m, in \u001b[0;36m<cell line: 1>\u001b[1;34m()\u001b[0m\n\u001b[1;32m----> 1\u001b[0m train_loss, test_loss, train_acc, test_acc \u001b[38;5;241m=\u001b[39m \u001b[43mfit\u001b[49m\u001b[43m(\u001b[49m\u001b[43mEPOCHS\u001b[49m\u001b[43m,\u001b[49m\u001b[43m \u001b[49m\n\u001b[0;32m      2\u001b[0m \u001b[43m                                                 \u001b[49m\u001b[43mtrain_dataloader\u001b[49m\u001b[43m,\u001b[49m\u001b[43m \u001b[49m\n\u001b[0;32m      3\u001b[0m \u001b[43m                                                 \u001b[49m\u001b[43mtest_dataloader\u001b[49m\u001b[43m)\u001b[49m\n",
      "Input \u001b[1;32mIn [25]\u001b[0m, in \u001b[0;36mfit\u001b[1;34m(epochs, train_dl, test_dl)\u001b[0m\n\u001b[0;32m      5\u001b[0m test_acc \u001b[38;5;241m=\u001b[39m []\n\u001b[0;32m      7\u001b[0m \u001b[38;5;28;01mfor\u001b[39;00m epoch \u001b[38;5;129;01min\u001b[39;00m \u001b[38;5;28mrange\u001b[39m(epochs):\n\u001b[1;32m----> 8\u001b[0m     epoch_loss, epoch_acc \u001b[38;5;241m=\u001b[39m \u001b[43mtrain\u001b[49m\u001b[43m(\u001b[49m\u001b[43mtrain_dl\u001b[49m\u001b[43m)\u001b[49m\n\u001b[0;32m      9\u001b[0m     epoch_test_loss, epoch_test_acc \u001b[38;5;241m=\u001b[39m test(test_dl)\n\u001b[0;32m     10\u001b[0m     train_loss\u001b[38;5;241m.\u001b[39mappend(epoch_loss)\n",
      "Input \u001b[1;32mIn [23]\u001b[0m, in \u001b[0;36mtrain\u001b[1;34m(dataloader)\u001b[0m\n\u001b[0;32m      7\u001b[0m \u001b[38;5;66;03m# Backpropagation\u001b[39;00m\n\u001b[0;32m      8\u001b[0m optimizer\u001b[38;5;241m.\u001b[39mzero_grad()\n\u001b[1;32m----> 9\u001b[0m \u001b[43mloss\u001b[49m\u001b[38;5;241;43m.\u001b[39;49m\u001b[43mbackward\u001b[49m\u001b[43m(\u001b[49m\u001b[43m)\u001b[49m\n\u001b[0;32m     10\u001b[0m optimizer\u001b[38;5;241m.\u001b[39mstep()\n\u001b[0;32m     12\u001b[0m \u001b[38;5;28;01mwith\u001b[39;00m torch\u001b[38;5;241m.\u001b[39mno_grad():\n",
      "File \u001b[1;32mC:\\ProgramData\\Miniconda3\\envs\\pth111\\lib\\site-packages\\torch\\_tensor.py:363\u001b[0m, in \u001b[0;36mTensor.backward\u001b[1;34m(self, gradient, retain_graph, create_graph, inputs)\u001b[0m\n\u001b[0;32m    354\u001b[0m \u001b[38;5;28;01mif\u001b[39;00m has_torch_function_unary(\u001b[38;5;28mself\u001b[39m):\n\u001b[0;32m    355\u001b[0m     \u001b[38;5;28;01mreturn\u001b[39;00m handle_torch_function(\n\u001b[0;32m    356\u001b[0m         Tensor\u001b[38;5;241m.\u001b[39mbackward,\n\u001b[0;32m    357\u001b[0m         (\u001b[38;5;28mself\u001b[39m,),\n\u001b[1;32m   (...)\u001b[0m\n\u001b[0;32m    361\u001b[0m         create_graph\u001b[38;5;241m=\u001b[39mcreate_graph,\n\u001b[0;32m    362\u001b[0m         inputs\u001b[38;5;241m=\u001b[39minputs)\n\u001b[1;32m--> 363\u001b[0m \u001b[43mtorch\u001b[49m\u001b[38;5;241;43m.\u001b[39;49m\u001b[43mautograd\u001b[49m\u001b[38;5;241;43m.\u001b[39;49m\u001b[43mbackward\u001b[49m\u001b[43m(\u001b[49m\u001b[38;5;28;43mself\u001b[39;49m\u001b[43m,\u001b[49m\u001b[43m \u001b[49m\u001b[43mgradient\u001b[49m\u001b[43m,\u001b[49m\u001b[43m \u001b[49m\u001b[43mretain_graph\u001b[49m\u001b[43m,\u001b[49m\u001b[43m \u001b[49m\u001b[43mcreate_graph\u001b[49m\u001b[43m,\u001b[49m\u001b[43m \u001b[49m\u001b[43minputs\u001b[49m\u001b[38;5;241;43m=\u001b[39;49m\u001b[43minputs\u001b[49m\u001b[43m)\u001b[49m\n",
      "File \u001b[1;32mC:\\ProgramData\\Miniconda3\\envs\\pth111\\lib\\site-packages\\torch\\autograd\\__init__.py:173\u001b[0m, in \u001b[0;36mbackward\u001b[1;34m(tensors, grad_tensors, retain_graph, create_graph, grad_variables, inputs)\u001b[0m\n\u001b[0;32m    168\u001b[0m     retain_graph \u001b[38;5;241m=\u001b[39m create_graph\n\u001b[0;32m    170\u001b[0m \u001b[38;5;66;03m# The reason we repeat same the comment below is that\u001b[39;00m\n\u001b[0;32m    171\u001b[0m \u001b[38;5;66;03m# some Python versions print out the first line of a multi-line function\u001b[39;00m\n\u001b[0;32m    172\u001b[0m \u001b[38;5;66;03m# calls in the traceback and some print out the last line\u001b[39;00m\n\u001b[1;32m--> 173\u001b[0m \u001b[43mVariable\u001b[49m\u001b[38;5;241;43m.\u001b[39;49m\u001b[43m_execution_engine\u001b[49m\u001b[38;5;241;43m.\u001b[39;49m\u001b[43mrun_backward\u001b[49m\u001b[43m(\u001b[49m\u001b[43m  \u001b[49m\u001b[38;5;66;43;03m# Calls into the C++ engine to run the backward pass\u001b[39;49;00m\n\u001b[0;32m    174\u001b[0m \u001b[43m    \u001b[49m\u001b[43mtensors\u001b[49m\u001b[43m,\u001b[49m\u001b[43m \u001b[49m\u001b[43mgrad_tensors_\u001b[49m\u001b[43m,\u001b[49m\u001b[43m \u001b[49m\u001b[43mretain_graph\u001b[49m\u001b[43m,\u001b[49m\u001b[43m \u001b[49m\u001b[43mcreate_graph\u001b[49m\u001b[43m,\u001b[49m\u001b[43m \u001b[49m\u001b[43minputs\u001b[49m\u001b[43m,\u001b[49m\n\u001b[0;32m    175\u001b[0m \u001b[43m    \u001b[49m\u001b[43mallow_unreachable\u001b[49m\u001b[38;5;241;43m=\u001b[39;49m\u001b[38;5;28;43;01mTrue\u001b[39;49;00m\u001b[43m,\u001b[49m\u001b[43m \u001b[49m\u001b[43maccumulate_grad\u001b[49m\u001b[38;5;241;43m=\u001b[39;49m\u001b[38;5;28;43;01mTrue\u001b[39;49;00m\u001b[43m)\u001b[49m\n",
      "\u001b[1;31mKeyboardInterrupt\u001b[0m: "
     ]
    }
   ],
   "source": [
    "train_loss, test_loss, train_acc, test_acc = fit(EPOCHS, \n",
    "                                                 train_dataloader, \n",
    "                                                 test_dataloader)"
   ]
  },
  {
   "cell_type": "code",
   "execution_count": null,
   "id": "9f282f00",
   "metadata": {
    "papermill": {
     "duration": 0.065027,
     "end_time": "2022-02-27T16:07:58.623599",
     "exception": false,
     "start_time": "2022-02-27T16:07:58.558572",
     "status": "completed"
    },
    "tags": []
   },
   "outputs": [],
   "source": []
  },
  {
   "cell_type": "code",
   "execution_count": null,
   "id": "393856b8",
   "metadata": {
    "papermill": {
     "duration": 0.065042,
     "end_time": "2022-02-27T16:07:58.753758",
     "exception": false,
     "start_time": "2022-02-27T16:07:58.688716",
     "status": "completed"
    },
    "tags": []
   },
   "outputs": [],
   "source": []
  },
  {
   "cell_type": "code",
   "execution_count": null,
   "id": "3dfd6725",
   "metadata": {
    "papermill": {
     "duration": 0.065018,
     "end_time": "2022-02-27T16:07:58.884238",
     "exception": false,
     "start_time": "2022-02-27T16:07:58.819220",
     "status": "completed"
    },
    "tags": []
   },
   "outputs": [],
   "source": []
  },
  {
   "cell_type": "code",
   "execution_count": null,
   "id": "c3ae6ff7",
   "metadata": {
    "papermill": {
     "duration": 0.066036,
     "end_time": "2022-02-27T16:07:59.016113",
     "exception": false,
     "start_time": "2022-02-27T16:07:58.950077",
     "status": "completed"
    },
    "tags": []
   },
   "outputs": [],
   "source": []
  }
 ],
 "metadata": {
  "kernelspec": {
   "display_name": "Python 3 (ipykernel)",
   "language": "python",
   "name": "python3"
  },
  "language_info": {
   "codemirror_mode": {
    "name": "ipython",
    "version": 3
   },
   "file_extension": ".py",
   "mimetype": "text/x-python",
   "name": "python",
   "nbconvert_exporter": "python",
   "pygments_lexer": "ipython3",
   "version": "3.8.12"
  },
  "papermill": {
   "default_parameters": {},
   "duration": 1364.951091,
   "end_time": "2022-02-27T16:08:00.094910",
   "environment_variables": {},
   "exception": null,
   "input_path": "__notebook__.ipynb",
   "output_path": "__notebook__.ipynb",
   "parameters": {},
   "start_time": "2022-02-27T15:45:15.143819",
   "version": "2.3.3"
  }
 },
 "nbformat": 4,
 "nbformat_minor": 5
}
