{
 "cells": [
  {
   "cell_type": "code",
   "execution_count": 1,
   "metadata": {},
   "outputs": [],
   "source": [
    "import torch\n",
    "import torch.nn as nn\n",
    "import torch.nn.functional as F\n",
    "import torch.optim as optim\n",
    "import numpy as np\n",
    "import matplotlib.pyplot as plt\n",
    "%matplotlib inline\n",
    "import torchvision\n",
    "import glob\n",
    "from torchvision import transforms\n",
    "from torch.utils import data\n",
    "from PIL import Image"
   ]
  },
  {
   "cell_type": "code",
   "execution_count": 5,
   "metadata": {},
   "outputs": [],
   "source": [
    "img_dir = r'./dataset2/*.jpg'"
   ]
  },
  {
   "cell_type": "code",
   "execution_count": 6,
   "metadata": {},
   "outputs": [],
   "source": [
    "imgs = glob.glob(img_dir)"
   ]
  },
  {
   "cell_type": "code",
   "execution_count": 7,
   "metadata": {},
   "outputs": [
    {
     "data": {
      "text/plain": [
       "['./dataset2\\\\cloudy1.jpg',\n",
       " './dataset2\\\\cloudy10.jpg',\n",
       " './dataset2\\\\cloudy100.jpg']"
      ]
     },
     "execution_count": 7,
     "metadata": {},
     "output_type": "execute_result"
    }
   ],
   "source": [
    "imgs[:3]"
   ]
  },
  {
   "cell_type": "code",
   "execution_count": 8,
   "metadata": {},
   "outputs": [],
   "source": [
    "species = ['cloudy', 'rain', 'shine', 'sunrise']"
   ]
  },
  {
   "cell_type": "code",
   "execution_count": 9,
   "metadata": {},
   "outputs": [],
   "source": [
    "species_to_idx = dict((c, i) for i, c in enumerate(species))"
   ]
  },
  {
   "cell_type": "code",
   "execution_count": 10,
   "metadata": {},
   "outputs": [
    {
     "data": {
      "text/plain": [
       "{'cloudy': 0, 'rain': 1, 'shine': 2, 'sunrise': 3}"
      ]
     },
     "execution_count": 10,
     "metadata": {},
     "output_type": "execute_result"
    }
   ],
   "source": [
    "species_to_idx"
   ]
  },
  {
   "cell_type": "code",
   "execution_count": 11,
   "metadata": {},
   "outputs": [],
   "source": [
    "idx_to_species = dict((v, k) for k, v in species_to_idx.items())"
   ]
  },
  {
   "cell_type": "code",
   "execution_count": 12,
   "metadata": {},
   "outputs": [
    {
     "data": {
      "text/plain": [
       "{0: 'cloudy', 1: 'rain', 2: 'shine', 3: 'sunrise'}"
      ]
     },
     "execution_count": 12,
     "metadata": {},
     "output_type": "execute_result"
    }
   ],
   "source": [
    "idx_to_species"
   ]
  },
  {
   "cell_type": "code",
   "execution_count": 13,
   "metadata": {},
   "outputs": [],
   "source": [
    "labels = []\n",
    "for img in imgs:\n",
    "    for i, c in enumerate(species):\n",
    "        if c in img:\n",
    "            labels.append(i)"
   ]
  },
  {
   "cell_type": "code",
   "execution_count": 14,
   "metadata": {},
   "outputs": [
    {
     "data": {
      "text/plain": [
       "[0, 0, 0]"
      ]
     },
     "execution_count": 14,
     "metadata": {},
     "output_type": "execute_result"
    }
   ],
   "source": [
    "labels[:3]"
   ]
  },
  {
   "cell_type": "code",
   "execution_count": 15,
   "metadata": {},
   "outputs": [],
   "source": [
    "transforms = transforms.Compose([\n",
    "    transforms.Resize((96, 96)),\n",
    "    transforms.ToTensor(),\n",
    "    transforms.Normalize(mean=[.5, .5, .5], std=[.5, .5, .5])\n",
    "])"
   ]
  },
  {
   "cell_type": "code",
   "execution_count": 16,
   "metadata": {},
   "outputs": [],
   "source": [
    "class WT_dataset(data.Dataset):\n",
    "    def __init__(self, imgs_path, lables):\n",
    "        self.imgs_path = imgs_path\n",
    "        self.lables = lables\n",
    "\n",
    "    def __getitem__(self, index):\n",
    "        img_path = self.imgs_path[index]\n",
    "        lable = self.lables[index]\n",
    "        \n",
    "        pil_img = Image.open(img_path)\n",
    "        pil_img = pil_img.convert(\"RGB\")\n",
    "        pil_img = transforms(pil_img)\n",
    "        return pil_img, lable\n",
    "\n",
    "    def __len__(self):\n",
    "        return len(self.imgs_path)"
   ]
  },
  {
   "cell_type": "code",
   "execution_count": 17,
   "metadata": {},
   "outputs": [],
   "source": [
    "dataset = WT_dataset(imgs, labels)"
   ]
  },
  {
   "cell_type": "code",
   "execution_count": 18,
   "metadata": {},
   "outputs": [
    {
     "name": "stdout",
     "output_type": "stream",
     "text": [
      "1122\n"
     ]
    }
   ],
   "source": [
    "count = len(dataset)\n",
    "print(count)"
   ]
  },
  {
   "cell_type": "code",
   "execution_count": 19,
   "metadata": {},
   "outputs": [
    {
     "name": "stdout",
     "output_type": "stream",
     "text": [
      "897 225\n"
     ]
    }
   ],
   "source": [
    "train_count = int(0.8*count)\n",
    "test_count = count - train_count\n",
    "train_dataset, test_dataset = data.random_split(dataset, [train_count, test_count])\n",
    "print(len(train_dataset), len(test_dataset))"
   ]
  },
  {
   "cell_type": "code",
   "execution_count": 20,
   "metadata": {},
   "outputs": [],
   "source": [
    "BTACH_SIZE = 16"
   ]
  },
  {
   "cell_type": "code",
   "execution_count": 21,
   "metadata": {},
   "outputs": [],
   "source": [
    "train_dl = torch.utils.data.DataLoader(\n",
    "                                       train_dataset,\n",
    "                                       batch_size=BTACH_SIZE,\n",
    "                                       shuffle=True\n",
    ")"
   ]
  },
  {
   "cell_type": "code",
   "execution_count": 22,
   "metadata": {},
   "outputs": [],
   "source": [
    "test_dl = torch.utils.data.DataLoader(\n",
    "                                       test_dataset,\n",
    "                                       batch_size=BTACH_SIZE,\n",
    ")"
   ]
  },
  {
   "cell_type": "code",
   "execution_count": 23,
   "metadata": {},
   "outputs": [],
   "source": [
    "imgs, labels = next(iter(train_dl))"
   ]
  },
  {
   "cell_type": "code",
   "execution_count": 21,
   "metadata": {},
   "outputs": [
    {
     "data": {
      "text/plain": [
       "torch.Size([16, 3, 96, 96])"
      ]
     },
     "execution_count": 21,
     "metadata": {},
     "output_type": "execute_result"
    }
   ],
   "source": [
    "imgs.shape"
   ]
  },
  {
   "cell_type": "code",
   "execution_count": 22,
   "metadata": {},
   "outputs": [
    {
     "data": {
      "text/plain": [
       "torch.Size([3, 96, 96])"
      ]
     },
     "execution_count": 22,
     "metadata": {},
     "output_type": "execute_result"
    }
   ],
   "source": [
    "imgs[0].shape"
   ]
  },
  {
   "cell_type": "code",
   "execution_count": 23,
   "metadata": {},
   "outputs": [],
   "source": [
    "im = imgs[0].permute(1, 2, 0)"
   ]
  },
  {
   "cell_type": "code",
   "execution_count": 24,
   "metadata": {},
   "outputs": [
    {
     "data": {
      "text/plain": [
       "torch.Size([96, 96, 3])"
      ]
     },
     "execution_count": 24,
     "metadata": {},
     "output_type": "execute_result"
    }
   ],
   "source": [
    "im.shape"
   ]
  },
  {
   "cell_type": "code",
   "execution_count": 25,
   "metadata": {},
   "outputs": [],
   "source": [
    "im = im.numpy()"
   ]
  },
  {
   "cell_type": "code",
   "execution_count": 26,
   "metadata": {},
   "outputs": [
    {
     "data": {
      "text/plain": [
       "numpy.ndarray"
      ]
     },
     "execution_count": 26,
     "metadata": {},
     "output_type": "execute_result"
    }
   ],
   "source": [
    "type(im)"
   ]
  },
  {
   "cell_type": "code",
   "execution_count": 27,
   "metadata": {},
   "outputs": [
    {
     "data": {
      "text/plain": [
       "(96, 96, 3)"
      ]
     },
     "execution_count": 27,
     "metadata": {},
     "output_type": "execute_result"
    }
   ],
   "source": [
    "im.shape"
   ]
  },
  {
   "cell_type": "code",
   "execution_count": 28,
   "metadata": {},
   "outputs": [
    {
     "data": {
      "text/plain": [
       "(0.9607843, -1.0)"
      ]
     },
     "execution_count": 28,
     "metadata": {},
     "output_type": "execute_result"
    }
   ],
   "source": [
    "im.max(), im.min()"
   ]
  },
  {
   "cell_type": "code",
   "execution_count": 29,
   "metadata": {},
   "outputs": [],
   "source": [
    "im = (im + 1)/2"
   ]
  },
  {
   "cell_type": "code",
   "execution_count": null,
   "metadata": {},
   "outputs": [],
   "source": [
    "im.max(), im.min()"
   ]
  },
  {
   "cell_type": "code",
   "execution_count": null,
   "metadata": {},
   "outputs": [],
   "source": [
    "plt.imshow(im)\n",
    "plt.title(idx_to_species[labels[0].item()])"
   ]
  },
  {
   "cell_type": "code",
   "execution_count": null,
   "metadata": {},
   "outputs": [],
   "source": [
    "plt.figure(figsize=(12, 8))\n",
    "for i, (img, label) in enumerate(zip(imgs[:6], labels[:6])):\n",
    "    img = (img.permute(1, 2, 0).numpy() + 1)/2\n",
    "    plt.subplot(2, 3, i+1)\n",
    "    plt.title(idx_to_species.get(label.item()))\n",
    "    plt.imshow(img)"
   ]
  },
  {
   "cell_type": "code",
   "execution_count": 33,
   "metadata": {},
   "outputs": [],
   "source": [
    "class Net(nn.Module):\n",
    "    def __init__(self):\n",
    "        super(Net, self).__init__()\n",
    "        self.conv1 = nn.Conv2d(3, 16, 3)\n",
    "        self.conv2 = nn.Conv2d(16, 32, 3)\n",
    "        self.conv3 = nn.Conv2d(32, 64, 3)\n",
    "        self.fc1 = nn.Linear(64*10*10, 1024)\n",
    "        self.fc2 = nn.Linear(1024, 4)\n",
    "    def forward(self, x):\n",
    "        x = F.relu(self.conv1(x))\n",
    "        x = F.max_pool2d(x, 2)\n",
    "        x = F.relu(self.conv2(x))\n",
    "        x = F.max_pool2d(x, 2)\n",
    "        x = F.relu(self.conv3(x))\n",
    "        x = F.max_pool2d(x, 2)\n",
    "        x = x.view(-1, 64*10*10)\n",
    "        x = F.relu(self.fc1(x))\n",
    "        x = self.fc2(x)\n",
    "        return x"
   ]
  },
  {
   "cell_type": "code",
   "execution_count": 34,
   "metadata": {},
   "outputs": [
    {
     "name": "stdout",
     "output_type": "stream",
     "text": [
      "Using cuda device\n"
     ]
    }
   ],
   "source": [
    "device = \"cuda\" if torch.cuda.is_available() else \"cpu\"\n",
    "print(\"Using {} device\".format(device))"
   ]
  },
  {
   "cell_type": "code",
   "execution_count": 35,
   "metadata": {},
   "outputs": [],
   "source": [
    "model = Net().to(device)"
   ]
  },
  {
   "cell_type": "code",
   "execution_count": 36,
   "metadata": {},
   "outputs": [],
   "source": [
    "loss_fn = nn.CrossEntropyLoss()"
   ]
  },
  {
   "cell_type": "code",
   "execution_count": 37,
   "metadata": {},
   "outputs": [],
   "source": [
    "optimizer = torch.optim.Adam(model.parameters(), lr=0.0005)"
   ]
  },
  {
   "cell_type": "code",
   "execution_count": 38,
   "metadata": {},
   "outputs": [],
   "source": [
    "#此处使用训练代码"
   ]
  },
  {
   "cell_type": "code",
   "execution_count": 39,
   "metadata": {},
   "outputs": [],
   "source": [
    "def train(dataloader, model, loss_fn, optimizer):\n",
    "    size = len(dataloader.dataset)\n",
    "    num_batches = len(dataloader)\n",
    "    train_loss, correct = 0, 0\n",
    "    model.train()\n",
    "    for X, y in dataloader:\n",
    "        X, y = X.to(device), y.to(device)\n",
    "\n",
    "        # Compute prediction error\n",
    "        pred = model(X)\n",
    "        loss = loss_fn(pred, y)\n",
    "\n",
    "        # Backpropagation\n",
    "        optimizer.zero_grad()\n",
    "        loss.backward()\n",
    "        optimizer.step()\n",
    "        \n",
    "        with torch.no_grad():\n",
    "            correct += (pred.argmax(1) == y).type(torch.float).sum().item()\n",
    "            train_loss += loss.item()\n",
    "    train_loss /= num_batches\n",
    "    correct /= size\n",
    "    return train_loss, correct"
   ]
  },
  {
   "cell_type": "code",
   "execution_count": 40,
   "metadata": {},
   "outputs": [],
   "source": [
    "def test(dataloader, model):\n",
    "    size = len(dataloader.dataset)\n",
    "    num_batches = len(dataloader)\n",
    "    model.eval()\n",
    "    test_loss, correct = 0, 0\n",
    "    with torch.no_grad():\n",
    "        for X, y in dataloader:\n",
    "            X, y = X.to(device), y.to(device)\n",
    "            pred = model(X)\n",
    "            test_loss += loss_fn(pred, y).item()\n",
    "            correct += (pred.argmax(1) == y).type(torch.float).sum().item()\n",
    "    test_loss /= num_batches\n",
    "    correct /= size\n",
    "\n",
    "    return test_loss, correct"
   ]
  },
  {
   "cell_type": "code",
   "execution_count": 41,
   "metadata": {},
   "outputs": [],
   "source": [
    "epochs = 30"
   ]
  },
  {
   "cell_type": "code",
   "execution_count": 42,
   "metadata": {},
   "outputs": [
    {
     "name": "stderr",
     "output_type": "stream",
     "text": [
      "C:\\Users\\guanghua\\miniconda3\\envs\\tch19\\lib\\site-packages\\torch\\nn\\functional.py:718: UserWarning: Named tensors and all their associated APIs are an experimental feature and subject to change. Please do not use them for anything important until they are released as stable. (Triggered internally at  ..\\c10/core/TensorImpl.h:1156.)\n",
      "  return torch.max_pool2d(input, kernel_size, stride, padding, dilation, ceil_mode)\n"
     ]
    },
    {
     "name": "stdout",
     "output_type": "stream",
     "text": [
      "epoch: 0, train_loss: 0.66149, train_acc: 73.8% ,test_loss: 0.54558, test_acc: 80.4%\n",
      "epoch: 1, train_loss: 0.44574, train_acc: 81.4% ,test_loss: 0.44423, test_acc: 82.7%\n",
      "epoch: 2, train_loss: 0.38688, train_acc: 84.6% ,test_loss: 0.38939, test_acc: 81.3%\n",
      "epoch: 3, train_loss: 0.35818, train_acc: 85.8% ,test_loss: 0.39846, test_acc: 82.2%\n",
      "epoch: 4, train_loss: 0.27285, train_acc: 88.4% ,test_loss: 0.36526, test_acc: 85.3%\n",
      "epoch: 5, train_loss: 0.22139, train_acc: 91.9% ,test_loss: 0.37189, test_acc: 85.3%\n",
      "epoch: 6, train_loss: 0.20209, train_acc: 91.0% ,test_loss: 0.46773, test_acc: 84.9%\n",
      "epoch: 7, train_loss: 0.13631, train_acc: 94.3% ,test_loss: 0.33173, test_acc: 87.1%\n",
      "epoch: 8, train_loss: 0.11775, train_acc: 94.9% ,test_loss: 0.49069, test_acc: 87.1%\n",
      "epoch: 9, train_loss: 0.21436, train_acc: 91.1% ,test_loss: 0.56762, test_acc: 84.0%\n",
      "epoch:10, train_loss: 0.09425, train_acc: 96.7% ,test_loss: 0.49414, test_acc: 88.4%\n",
      "epoch:11, train_loss: 0.07655, train_acc: 98.0% ,test_loss: 0.62307, test_acc: 87.1%\n",
      "epoch:12, train_loss: 0.04980, train_acc: 98.3% ,test_loss: 0.48761, test_acc: 88.9%\n",
      "epoch:13, train_loss: 0.03657, train_acc: 98.9% ,test_loss: 0.46191, test_acc: 87.6%\n",
      "epoch:14, train_loss: 0.02002, train_acc: 99.3% ,test_loss: 0.42047, test_acc: 88.0%\n",
      "epoch:15, train_loss: 0.03117, train_acc: 98.7% ,test_loss: 0.63897, test_acc: 87.6%\n",
      "epoch:16, train_loss: 0.04244, train_acc: 98.6% ,test_loss: 0.46779, test_acc: 88.9%\n",
      "epoch:17, train_loss: 0.01837, train_acc: 99.4% ,test_loss: 0.50738, test_acc: 89.3%\n",
      "epoch:18, train_loss: 0.02603, train_acc: 99.0% ,test_loss: 1.13834, test_acc: 84.0%\n",
      "epoch:19, train_loss: 0.05484, train_acc: 97.7% ,test_loss: 0.50622, test_acc: 90.2%\n",
      "epoch:20, train_loss: 0.01026, train_acc: 99.6% ,test_loss: 0.49713, test_acc: 89.3%\n",
      "epoch:21, train_loss: 0.00338, train_acc: 99.9% ,test_loss: 0.52410, test_acc: 90.2%\n",
      "epoch:22, train_loss: 0.00333, train_acc: 100.0% ,test_loss: 0.58404, test_acc: 89.8%\n",
      "epoch:23, train_loss: 0.00036, train_acc: 100.0% ,test_loss: 0.59309, test_acc: 88.9%\n",
      "epoch:24, train_loss: 0.00025, train_acc: 100.0% ,test_loss: 0.60222, test_acc: 88.4%\n",
      "epoch:25, train_loss: 0.00021, train_acc: 100.0% ,test_loss: 0.60991, test_acc: 88.4%\n",
      "epoch:26, train_loss: 0.00018, train_acc: 100.0% ,test_loss: 0.61785, test_acc: 88.9%\n",
      "epoch:27, train_loss: 0.00015, train_acc: 100.0% ,test_loss: 0.62415, test_acc: 89.3%\n",
      "epoch:28, train_loss: 0.00013, train_acc: 100.0% ,test_loss: 0.62995, test_acc: 89.3%\n",
      "epoch:29, train_loss: 0.00012, train_acc: 100.0% ,test_loss: 0.63580, test_acc: 89.8%\n",
      "Done!\n"
     ]
    }
   ],
   "source": [
    "train_loss = []\n",
    "train_acc = []\n",
    "test_loss = []\n",
    "test_acc = []\n",
    "\n",
    "for epoch in range(epochs):\n",
    "    epoch_loss, epoch_acc = train(train_dl, model, loss_fn, optimizer)\n",
    "    epoch_test_loss, epoch_test_acc = test(test_dl, model)\n",
    "    train_loss.append(epoch_loss)\n",
    "    train_acc.append(epoch_acc)\n",
    "    test_loss.append(epoch_test_loss)\n",
    "    test_acc.append(epoch_test_acc)\n",
    "    \n",
    "    template = (\"epoch:{:2d}, train_loss: {:.5f}, train_acc: {:.1f}% ,\" \n",
    "                \"test_loss: {:.5f}, test_acc: {:.1f}%\")\n",
    "    print(template.format(\n",
    "          epoch, epoch_loss, epoch_acc*100, epoch_test_loss, epoch_test_acc*100))\n",
    "    \n",
    "print(\"Done!\")"
   ]
  },
  {
   "cell_type": "code",
   "execution_count": 83,
   "metadata": {},
   "outputs": [
    {
     "data": {
      "image/png": "[encoded data removed]",
      "text/plain": [
       "<Figure size 432x288 with 1 Axes>"
      ]
     },
     "metadata": {
      "needs_background": "light"
     },
     "output_type": "display_data"
    }
   ],
   "source": [
    "plt.plot(range(1, epochs+1), train_loss, label='train_loss', lw=2)\n",
    "plt.plot(range(1, epochs+1), test_loss, label='test_loss', lw=2, ls=\"--\")\n",
    "plt.legend()\n",
    "plt.savefig('11-6-1.jpg', dpi=400)"
   ]
  },
  {
   "cell_type": "code",
   "execution_count": 84,
   "metadata": {},
   "outputs": [
    {
     "data": {
      "image/png": "[encoded data removed]",
      "text/plain": [
       "<Figure size 432x288 with 1 Axes>"
      ]
     },
     "metadata": {
      "needs_background": "light"
     },
     "output_type": "display_data"
    }
   ],
   "source": [
    "plt.plot(range(1, epochs+1), train_acc, label='train_acc', lw=2)\n",
    "plt.plot(range(1, epochs+1), test_acc, label='test_acc', ls=\"--\")\n",
    "plt.legend()\n",
    "plt.savefig('11-6-2.jpg', dpi=400)"
   ]
  },
  {
   "cell_type": "markdown",
   "metadata": {},
   "source": [
    "# 添加dropout层"
   ]
  },
  {
   "cell_type": "code",
   "execution_count": 45,
   "metadata": {},
   "outputs": [],
   "source": [
    "class Net(nn.Module):\n",
    "    def __init__(self):\n",
    "        super(Net, self).__init__()\n",
    "        self.conv1 = nn.Conv2d(3, 16, 3)\n",
    "        self.conv2 = nn.Conv2d(16, 32, 3)\n",
    "        self.conv3 = nn.Conv2d(32, 64, 3)\n",
    "        self.fc1 = nn.Linear(64*10*10, 1024)\n",
    "        self.fc2 = nn.Linear(1024, 4)\n",
    "    def forward(self, x):\n",
    "        x = F.relu(self.conv1(x))\n",
    "        x = F.max_pool2d(x, 2)\n",
    "        x = F.relu(self.conv2(x))\n",
    "        x = F.max_pool2d(x, 2)\n",
    "        x = F.relu(self.conv3(x))\n",
    "        x = F.max_pool2d(x, 2)\n",
    "        x = x.view(-1, 64*10*10)\n",
    "        x = F.dropout(x)\n",
    "        x = F.relu(self.fc1(x))\n",
    "        x = F.dropout(x)\n",
    "        x = self.fc2(x)\n",
    "        return x"
   ]
  },
  {
   "cell_type": "code",
   "execution_count": 46,
   "metadata": {},
   "outputs": [],
   "source": [
    "model = Net().to(device)\n",
    "optimizer = torch.optim.Adam(model.parameters(), lr=0.0005)"
   ]
  },
  {
   "cell_type": "code",
   "execution_count": 47,
   "metadata": {},
   "outputs": [],
   "source": [
    "epochs = 30"
   ]
  },
  {
   "cell_type": "code",
   "execution_count": 48,
   "metadata": {},
   "outputs": [
    {
     "name": "stdout",
     "output_type": "stream",
     "text": [
      "epoch: 0, train_loss: 0.81120, train_acc: 66.8% ,test_loss: 0.71193, test_acc: 70.7%\n",
      "epoch: 1, train_loss: 0.52835, train_acc: 79.9% ,test_loss: 0.51983, test_acc: 83.1%\n",
      "epoch: 2, train_loss: 0.45182, train_acc: 82.5% ,test_loss: 0.41476, test_acc: 85.3%\n",
      "epoch: 3, train_loss: 0.41531, train_acc: 84.6% ,test_loss: 0.59402, test_acc: 75.1%\n",
      "epoch: 4, train_loss: 0.38094, train_acc: 85.1% ,test_loss: 0.33776, test_acc: 89.8%\n",
      "epoch: 5, train_loss: 0.28068, train_acc: 90.0% ,test_loss: 0.30465, test_acc: 86.2%\n",
      "epoch: 6, train_loss: 0.20149, train_acc: 92.8% ,test_loss: 0.45504, test_acc: 85.3%\n",
      "epoch: 7, train_loss: 0.21863, train_acc: 92.2% ,test_loss: 0.34395, test_acc: 86.2%\n",
      "epoch: 8, train_loss: 0.19230, train_acc: 91.8% ,test_loss: 0.39637, test_acc: 86.2%\n",
      "epoch: 9, train_loss: 0.14046, train_acc: 95.2% ,test_loss: 0.31165, test_acc: 92.4%\n",
      "epoch:10, train_loss: 0.08239, train_acc: 97.2% ,test_loss: 0.35395, test_acc: 88.9%\n",
      "epoch:11, train_loss: 0.07489, train_acc: 97.9% ,test_loss: 0.40159, test_acc: 87.1%\n",
      "epoch:12, train_loss: 0.12648, train_acc: 95.7% ,test_loss: 0.43289, test_acc: 88.0%\n",
      "epoch:13, train_loss: 0.06752, train_acc: 98.2% ,test_loss: 0.43651, test_acc: 89.8%\n",
      "epoch:14, train_loss: 0.07733, train_acc: 97.2% ,test_loss: 0.46529, test_acc: 90.2%\n",
      "epoch:15, train_loss: 0.17046, train_acc: 92.9% ,test_loss: 0.35696, test_acc: 88.9%\n",
      "epoch:16, train_loss: 0.06565, train_acc: 98.1% ,test_loss: 0.32910, test_acc: 88.4%\n",
      "epoch:17, train_loss: 0.04889, train_acc: 98.8% ,test_loss: 0.39349, test_acc: 91.6%\n",
      "epoch:18, train_loss: 0.03862, train_acc: 98.9% ,test_loss: 0.48036, test_acc: 89.8%\n",
      "epoch:19, train_loss: 0.04866, train_acc: 98.2% ,test_loss: 0.47207, test_acc: 89.8%\n",
      "epoch:20, train_loss: 0.03517, train_acc: 98.9% ,test_loss: 0.49073, test_acc: 90.7%\n",
      "epoch:21, train_loss: 0.18275, train_acc: 94.4% ,test_loss: 0.49912, test_acc: 88.0%\n",
      "epoch:22, train_loss: 0.05414, train_acc: 97.7% ,test_loss: 0.47738, test_acc: 88.4%\n",
      "epoch:23, train_loss: 0.02057, train_acc: 99.4% ,test_loss: 0.55476, test_acc: 87.6%\n",
      "epoch:24, train_loss: 0.01521, train_acc: 99.7% ,test_loss: 0.56733, test_acc: 88.9%\n",
      "epoch:25, train_loss: 0.01351, train_acc: 99.6% ,test_loss: 0.56286, test_acc: 88.0%\n",
      "epoch:26, train_loss: 0.01881, train_acc: 99.4% ,test_loss: 0.66375, test_acc: 87.1%\n",
      "epoch:27, train_loss: 0.02566, train_acc: 99.3% ,test_loss: 0.49705, test_acc: 88.9%\n",
      "epoch:28, train_loss: 0.01182, train_acc: 99.6% ,test_loss: 0.59320, test_acc: 87.6%\n",
      "epoch:29, train_loss: 0.01947, train_acc: 99.4% ,test_loss: 0.69862, test_acc: 89.3%\n",
      "Done!\n"
     ]
    }
   ],
   "source": [
    "train_loss = []\n",
    "train_acc = []\n",
    "test_loss = []\n",
    "test_acc = []\n",
    "\n",
    "for epoch in range(epochs):\n",
    "    epoch_loss, epoch_acc = train(train_dl, model, loss_fn, optimizer)\n",
    "    epoch_test_loss, epoch_test_acc = test(test_dl, model)\n",
    "    train_loss.append(epoch_loss)\n",
    "    train_acc.append(epoch_acc)\n",
    "    test_loss.append(epoch_test_loss)\n",
    "    test_acc.append(epoch_test_acc)\n",
    "    \n",
    "    template = (\"epoch:{:2d}, train_loss: {:.5f}, train_acc: {:.1f}% ,\" \n",
    "                \"test_loss: {:.5f}, test_acc: {:.1f}%\")\n",
    "    print(template.format(\n",
    "          epoch, epoch_loss, epoch_acc*100, epoch_test_loss, epoch_test_acc*100))\n",
    "    \n",
    "print(\"Done!\")"
   ]
  },
  {
   "cell_type": "code",
   "execution_count": 49,
   "metadata": {},
   "outputs": [
    {
     "data": {
      "text/plain": [
       "<matplotlib.legend.Legend at 0x20e80367f40>"
      ]
     },
     "execution_count": 49,
     "metadata": {},
     "output_type": "execute_result"
    },
    {
     "data": {
      "image/png": "[encoded data removed]",
      "text/plain": [
       "<Figure size 432x288 with 1 Axes>"
      ]
     },
     "metadata": {
      "needs_background": "light"
     },
     "output_type": "display_data"
    }
   ],
   "source": [
    "plt.plot(range(1, epochs+1), train_loss, label='train_loss')\n",
    "plt.plot(range(1, epochs+1), test_loss, label='test_loss')\n",
    "plt.legend()"
   ]
  },
  {
   "cell_type": "code",
   "execution_count": 50,
   "metadata": {},
   "outputs": [
    {
     "data": {
      "text/plain": [
       "<matplotlib.legend.Legend at 0x20e873db4c0>"
      ]
     },
     "execution_count": 50,
     "metadata": {},
     "output_type": "execute_result"
    },
    {
     "data": {
      "image/png": "[encoded data removed]",
      "text/plain": [
       "<Figure size 432x288 with 1 Axes>"
      ]
     },
     "metadata": {
      "needs_background": "light"
     },
     "output_type": "display_data"
    }
   ],
   "source": [
    "plt.plot(range(1, epochs+1), train_acc, label='train_acc')\n",
    "plt.plot(range(1, epochs+1), test_acc, label='test_acc')\n",
    "plt.legend()"
   ]
  },
  {
   "cell_type": "markdown",
   "metadata": {},
   "source": [
    "# 添加BN层"
   ]
  },
  {
   "cell_type": "code",
   "execution_count": 66,
   "metadata": {},
   "outputs": [],
   "source": [
    "class Net(nn.Module):\n",
    "    def __init__(self):\n",
    "        super(Net, self).__init__()\n",
    "        self.conv1 = nn.Conv2d(3, 16, 3)\n",
    "        self.bn1 = nn.BatchNorm2d(16)\n",
    "        self.conv2 = nn.Conv2d(16, 32, 3)\n",
    "        self.bn2 = nn.BatchNorm2d(32)\n",
    "        self.conv3 = nn.Conv2d(32, 64, 3)\n",
    "        self.bn3 = nn.BatchNorm2d(64)\n",
    "        self.fc1 = nn.Linear(64*10*10, 1024)\n",
    "        self.fc2 = nn.Linear(1024, 4)\n",
    "    def forward(self, x):\n",
    "        x = F.relu(self.conv1(x))\n",
    "        x = self.bn1(x)\n",
    "        x = F.max_pool2d(x, 2)\n",
    "        x = F.relu(self.conv2(x))\n",
    "        x = self.bn2(x)\n",
    "        x = F.max_pool2d(x, 2)\n",
    "        x = F.relu(self.conv3(x))\n",
    "        x = self.bn3(x)\n",
    "        x = F.max_pool2d(x, 2)\n",
    "        x = x.view(-1, 64*10*10)\n",
    "        x = F.dropout(x)\n",
    "        x = F.relu(self.fc1(x))\n",
    "        x = F.dropout(x)\n",
    "        x = self.fc2(x)\n",
    "        return x"
   ]
  },
  {
   "cell_type": "code",
   "execution_count": 67,
   "metadata": {},
   "outputs": [],
   "source": [
    "model = Net().to(device)\n",
    "optimizer = torch.optim.Adam(model.parameters(), lr=0.0005)"
   ]
  },
  {
   "cell_type": "code",
   "execution_count": 68,
   "metadata": {},
   "outputs": [],
   "source": [
    "epochs = 30"
   ]
  },
  {
   "cell_type": "code",
   "execution_count": 69,
   "metadata": {},
   "outputs": [
    {
     "name": "stdout",
     "output_type": "stream",
     "text": [
      "epoch: 0, train_loss: 0.80418, train_acc: 76.7% ,test_loss: 0.36469, test_acc: 86.7%\n",
      "epoch: 1, train_loss: 0.37865, train_acc: 88.4% ,test_loss: 0.48814, test_acc: 86.7%\n",
      "epoch: 2, train_loss: 0.28313, train_acc: 91.0% ,test_loss: 0.56889, test_acc: 86.7%\n",
      "epoch: 3, train_loss: 0.24833, train_acc: 91.0% ,test_loss: 0.35505, test_acc: 92.0%\n",
      "epoch: 4, train_loss: 0.25911, train_acc: 95.2% ,test_loss: 0.65936, test_acc: 89.3%\n",
      "epoch: 5, train_loss: 0.24888, train_acc: 92.8% ,test_loss: 0.58714, test_acc: 84.4%\n",
      "epoch: 6, train_loss: 0.19619, train_acc: 93.4% ,test_loss: 0.44637, test_acc: 90.7%\n",
      "epoch: 7, train_loss: 0.14617, train_acc: 95.0% ,test_loss: 0.49194, test_acc: 88.9%\n",
      "epoch: 8, train_loss: 0.08511, train_acc: 97.9% ,test_loss: 0.55097, test_acc: 88.9%\n",
      "epoch: 9, train_loss: 0.05943, train_acc: 98.2% ,test_loss: 0.63820, test_acc: 90.2%\n",
      "epoch:10, train_loss: 0.07594, train_acc: 97.5% ,test_loss: 0.43740, test_acc: 92.0%\n",
      "epoch:11, train_loss: 0.15665, train_acc: 98.2% ,test_loss: 0.72630, test_acc: 85.8%\n",
      "epoch:12, train_loss: 0.27187, train_acc: 93.5% ,test_loss: 0.75864, test_acc: 83.6%\n",
      "epoch:13, train_loss: 0.16482, train_acc: 94.9% ,test_loss: 0.61115, test_acc: 88.4%\n",
      "epoch:14, train_loss: 0.13565, train_acc: 96.8% ,test_loss: 0.60199, test_acc: 89.3%\n",
      "epoch:15, train_loss: 0.17549, train_acc: 97.2% ,test_loss: 0.62787, test_acc: 90.2%\n",
      "epoch:16, train_loss: 0.25528, train_acc: 95.5% ,test_loss: 0.62850, test_acc: 89.3%\n",
      "epoch:17, train_loss: 0.35088, train_acc: 94.5% ,test_loss: 0.81111, test_acc: 87.6%\n",
      "epoch:18, train_loss: 0.29436, train_acc: 94.2% ,test_loss: 0.46485, test_acc: 88.4%\n",
      "epoch:19, train_loss: 0.06637, train_acc: 97.8% ,test_loss: 0.80383, test_acc: 88.0%\n",
      "epoch:20, train_loss: 0.25069, train_acc: 97.8% ,test_loss: 0.61009, test_acc: 91.1%\n",
      "epoch:21, train_loss: 0.26726, train_acc: 95.0% ,test_loss: 0.77013, test_acc: 87.6%\n",
      "epoch:22, train_loss: 0.19762, train_acc: 96.4% ,test_loss: 0.60566, test_acc: 88.4%\n",
      "epoch:23, train_loss: 0.08510, train_acc: 97.4% ,test_loss: 0.50550, test_acc: 89.8%\n",
      "epoch:24, train_loss: 0.20162, train_acc: 97.0% ,test_loss: 0.93167, test_acc: 90.2%\n",
      "epoch:25, train_loss: 0.13599, train_acc: 96.8% ,test_loss: 0.72634, test_acc: 93.3%\n",
      "epoch:26, train_loss: 0.12836, train_acc: 97.2% ,test_loss: 0.62947, test_acc: 92.0%\n",
      "epoch:27, train_loss: 0.08059, train_acc: 98.8% ,test_loss: 0.63747, test_acc: 92.9%\n",
      "epoch:28, train_loss: 0.09502, train_acc: 99.2% ,test_loss: 0.65975, test_acc: 89.8%\n",
      "epoch:29, train_loss: 0.16757, train_acc: 95.1% ,test_loss: 0.87833, test_acc: 87.1%\n",
      "Done!\n"
     ]
    }
   ],
   "source": [
    "train_loss = []\n",
    "train_acc = []\n",
    "test_loss = []\n",
    "test_acc = []\n",
    "\n",
    "for epoch in range(epochs):\n",
    "    epoch_loss, epoch_acc = train(train_dl, model, loss_fn, optimizer)\n",
    "    epoch_test_loss, epoch_test_acc = test(test_dl, model)\n",
    "    train_loss.append(epoch_loss)\n",
    "    train_acc.append(epoch_acc)\n",
    "    test_loss.append(epoch_test_loss)\n",
    "    test_acc.append(epoch_test_acc)\n",
    "    \n",
    "    template = (\"epoch:{:2d}, train_loss: {:.5f}, train_acc: {:.1f}% ,\" \n",
    "                \"test_loss: {:.5f}, test_acc: {:.1f}%\")\n",
    "    print(template.format(\n",
    "          epoch, epoch_loss, epoch_acc*100, epoch_test_loss, epoch_test_acc*100))\n",
    "    \n",
    "print(\"Done!\")"
   ]
  },
  {
   "cell_type": "code",
   "execution_count": 70,
   "metadata": {},
   "outputs": [
    {
     "data": {
      "text/plain": [
       "<matplotlib.legend.Legend at 0x20e96605910>"
      ]
     },
     "execution_count": 70,
     "metadata": {},
     "output_type": "execute_result"
    },
    {
     "data": {
      "image/png": "[encoded data removed]",
      "text/plain": [
       "<Figure size 432x288 with 1 Axes>"
      ]
     },
     "metadata": {
      "needs_background": "light"
     },
     "output_type": "display_data"
    }
   ],
   "source": [
    "plt.plot(range(1, epochs+1), train_loss, label='train_loss')\n",
    "plt.plot(range(1, epochs+1), test_loss, label='test_loss')\n",
    "plt.legend()"
   ]
  },
  {
   "cell_type": "code",
   "execution_count": 71,
   "metadata": {},
   "outputs": [
    {
     "data": {
      "text/plain": [
       "<matplotlib.legend.Legend at 0x20e96fee820>"
      ]
     },
     "execution_count": 71,
     "metadata": {},
     "output_type": "execute_result"
    },
    {
     "data": {
      "image/png": "[encoded data removed]",
      "text/plain": [
       "<Figure size 432x288 with 1 Axes>"
      ]
     },
     "metadata": {
      "needs_background": "light"
     },
     "output_type": "display_data"
    }
   ],
   "source": [
    "plt.plot(range(1, epochs+1), train_acc, label='train_acc')\n",
    "plt.plot(range(1, epochs+1), test_acc, label='test_acc')\n",
    "plt.legend()"
   ]
  },
  {
   "cell_type": "code",
   "execution_count": null,
   "metadata": {},
   "outputs": [],
   "source": []
  },
  {
   "cell_type": "markdown",
   "metadata": {},
   "source": [
    "也可以定义一个fit函数，方便直接调用进行训练"
   ]
  },
  {
   "cell_type": "code",
   "execution_count": 1,
   "metadata": {},
   "outputs": [],
   "source": [
    "def fit(epochs, train_dl, test_dl, model, loss_fn, optimizer, exp_lr_scheduler=None):\n",
    "    train_loss = []\n",
    "    train_acc = []\n",
    "    test_loss = []\n",
    "    test_acc = []\n",
    "\n",
    "    for epoch in range(epochs):\n",
    "        epoch_loss, epoch_acc = train(train_dl, model, loss_fn, optimizer)\n",
    "        epoch_test_loss, epoch_test_acc = test(test_dl, model)\n",
    "        train_loss.append(epoch_loss)\n",
    "        train_acc.append(epoch_acc)\n",
    "        test_loss.append(epoch_test_loss)\n",
    "        test_acc.append(epoch_test_acc)\n",
    "        if exp_lr_scheduler:\n",
    "            exp_lr_scheduler.step()       # 学习速率衰减\n",
    "    \n",
    "        template = (\"epoch:{:2d}, train_loss: {:.5f}, train_acc: {:.1f}% ,\" \n",
    "                    \"test_loss: {:.5f}, test_acc: {:.1f}%\")\n",
    "        print(template.format(\n",
    "              epoch, epoch_loss, epoch_acc*100, epoch_test_loss, epoch_test_acc*100))\n",
    "        \n",
    "    print(\"Done!\")\n",
    "    return train_loss, test_loss, train_acc, test_acc"
   ]
  },
  {
   "cell_type": "code",
   "execution_count": null,
   "metadata": {},
   "outputs": [],
   "source": []
  }
 ],
 "metadata": {
  "kernelspec": {
   "display_name": "Python 3 (ipykernel)",
   "language": "python",
   "name": "python3"
  },
  "language_info": {
   "codemirror_mode": {
    "name": "ipython",
    "version": 3
   },
   "file_extension": ".py",
   "mimetype": "text/x-python",
   "name": "python",
   "nbconvert_exporter": "python",
   "pygments_lexer": "ipython3",
   "version": "3.8.12"
  }
 },
 "nbformat": 4,
 "nbformat_minor": 2
}
